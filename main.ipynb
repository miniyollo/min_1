{
  "cells": [
    {
      "cell_type": "code",
      "execution_count": null,
      "metadata": {
        "id": "CX3zzDf-Z225"
      },
      "outputs": [],
      "source": [
        "import pandas as pd\n",
        "import matplotlib.pyplot as plt\n",
        "import numpy as np\n",
        "from collections import Counter\n",
        "import altair as alt\n",
        "import random\n",
        "import ast\n",
        "from sklearn.metrics.pairwise import cosine_similarity\n",
        "from scipy.spatial.distance import euclidean"
      ]
    },
    {
      "cell_type": "code",
      "execution_count": null,
      "metadata": {
        "id": "r61FACkWZ2zc"
      },
      "outputs": [],
      "source": [
        "raw_recipes = pd.read_csv('food.csv')"
      ]
    },
    {
      "cell_type": "markdown",
      "metadata": {
        "id": "SG6XW_DlOuta"
      },
      "source": [
        "#Cleaning and EDA"
      ]
    },
    {
      "cell_type": "code",
      "execution_count": null,
      "metadata": {
        "colab": {
          "base_uri": "https://localhost:8080/",
          "height": 340
        },
        "id": "9PYrfB_CZ2wc",
        "outputId": "accd69d6-4b75-4d96-92a4-9c1ea3e1dc3a"
      },
      "outputs": [],
      "source": [
        "raw_recipes.head(2)"
      ]
    },
    {
      "cell_type": "code",
      "execution_count": null,
      "metadata": {
        "colab": {
          "base_uri": "https://localhost:8080/"
        },
        "id": "SXkJTO8FZ2qg",
        "outputId": "5a86b788-2a7c-4afc-83cd-3dda3f719647"
      },
      "outputs": [],
      "source": [
        "raw_recipes.shape"
      ]
    },
    {
      "cell_type": "code",
      "execution_count": null,
      "metadata": {
        "colab": {
          "base_uri": "https://localhost:8080/",
          "height": 300
        },
        "id": "inNrVBU_OCQ_",
        "outputId": "bf9910c3-d90c-4baf-860c-e52bb8fd2187"
      },
      "outputs": [],
      "source": [
        "raw_recipes.describe()"
      ]
    },
    {
      "cell_type": "code",
      "execution_count": null,
      "metadata": {
        "colab": {
          "base_uri": "https://localhost:8080/",
          "height": 244
        },
        "id": "XZQcxBazOLSp",
        "outputId": "6032ff84-08ee-478f-ab41-d7ae1bc7900c"
      },
      "outputs": [],
      "source": [
        "raw_recipes.describe(include='object')"
      ]
    },
    {
      "cell_type": "code",
      "execution_count": null,
      "metadata": {
        "colab": {
          "base_uri": "https://localhost:8080/"
        },
        "id": "CRLmnZJTOPql",
        "outputId": "015dab6b-e95c-4804-edc2-900521ebc150"
      },
      "outputs": [],
      "source": [
        "raw_recipes.isnull().sum()"
      ]
    },
    {
      "cell_type": "code",
      "execution_count": null,
      "metadata": {
        "colab": {
          "base_uri": "https://localhost:8080/",
          "height": 1000
        },
        "id": "R6SsPmGTNKWv",
        "outputId": "fc089d33-1c25-480c-80db-4f92b8a7735e"
      },
      "outputs": [],
      "source": [
        "raw_recipes.fillna(0)"
      ]
    },
    {
      "cell_type": "code",
      "execution_count": null,
      "metadata": {
        "colab": {
          "base_uri": "https://localhost:8080/",
          "height": 1000
        },
        "id": "oBiOJ2RGNNqS",
        "outputId": "e9ee9472-b434-4310-b500-cadffb4337f4"
      },
      "outputs": [],
      "source": [
        "raw_recipes.dropna()"
      ]
    },
    {
      "cell_type": "code",
      "execution_count": null,
      "metadata": {
        "colab": {
          "base_uri": "https://localhost:8080/"
        },
        "id": "odCZbQW0Z2k6",
        "outputId": "36cbde2d-bb50-4e0f-ea68-e6afda7794f3"
      },
      "outputs": [],
      "source": [
        "raw_recipes.duplicated().sum()"
      ]
    },
    {
      "cell_type": "code",
      "execution_count": null,
      "metadata": {
        "colab": {
          "base_uri": "https://localhost:8080/"
        },
        "id": "bt8S70P5Z2tY",
        "outputId": "ac8c1364-5f18-4a47-d1cd-dc14e9c7b2e3"
      },
      "outputs": [],
      "source": [
        "raw_recipes.columns"
      ]
    },
    {
      "cell_type": "markdown",
      "metadata": {
        "id": "jHsKo7cDP1bk"
      },
      "source": [
        "#Recomandation systemm\n"
      ]
    },
    {
      "cell_type": "code",
      "execution_count": null,
      "metadata": {
        "id": "ogFbjEQxP0Fz"
      },
      "outputs": [],
      "source": [
        "new_recipes = raw_recipes[['RecipeID','recipies','RequiredTime','Ingredients','Description']]"
      ]
    },
    {
      "cell_type": "code",
      "execution_count": null,
      "metadata": {
        "colab": {
          "base_uri": "https://localhost:8080/"
        },
        "id": "3_YJBlN9lmqg",
        "outputId": "5ac82234-014a-42a1-88cf-8d2250f812b6"
      },
      "outputs": [],
      "source": [
        "new_recipes.shape"
      ]
    },
    {
      "cell_type": "code",
      "execution_count": null,
      "metadata": {
        "id": "inOQxqd9mEuQ"
      },
      "outputs": [],
      "source": [
        "\n",
        "new_recipes.to_csv('new_recipes.csv',index = False)"
      ]
    },
    {
      "cell_type": "code",
      "execution_count": null,
      "metadata": {
        "colab": {
          "base_uri": "https://localhost:8080/"
        },
        "id": "nIJa4WeolqmY",
        "outputId": "733d5816-480e-4b0e-e188-35ad8031bd2e"
      },
      "outputs": [],
      "source": [
        "new_recipes.columns"
      ]
    },
    {
      "cell_type": "code",
      "execution_count": null,
      "metadata": {
        "colab": {
          "base_uri": "https://localhost:8080/"
        },
        "id": "Wb73uR_cZmpf",
        "outputId": "d0ea60ec-82f4-42d3-bc00-2ef892817cd2"
      },
      "outputs": [],
      "source": [
        "new_recipes.rename(columns={'recipies': 'title'}, inplace=True)"
      ]
    },
    {
      "cell_type": "code",
      "execution_count": null,
      "metadata": {
        "colab": {
          "base_uri": "https://localhost:8080/",
          "height": 112
        },
        "id": "FvrzfYJTmUaV",
        "outputId": "4c48ebb5-66a0-4239-aa62-d4989c84211c"
      },
      "outputs": [],
      "source": [
        "new_recipes.head(2)"
      ]
    },
    {
      "cell_type": "code",
      "execution_count": null,
      "metadata": {
        "id": "zuP7HlWPP0Cm"
      },
      "outputs": [],
      "source": [
        "from sklearn.feature_extraction.text import CountVectorizer\n",
        "cv  = CountVectorizer(max_features=436 , stop_words = 'english')"
      ]
    },
    {
      "cell_type": "code",
      "execution_count": null,
      "metadata": {
        "colab": {
          "base_uri": "https://localhost:8080/",
          "height": 74
        },
        "id": "1j8P32npPz_r",
        "outputId": "893df0bb-5c5e-4434-8983-a2940ad77a8a"
      },
      "outputs": [],
      "source": [
        "cv"
      ]
    },
    {
      "cell_type": "code",
      "execution_count": null,
      "metadata": {
        "id": "JkJfC_lmZ50H"
      },
      "outputs": [],
      "source": [
        "vector = cv.fit_transform(new_recipes['title'].values.astype('U')).toarray()"
      ]
    },
    {
      "cell_type": "code",
      "execution_count": null,
      "metadata": {
        "id": "XpY0a5syPz9F"
      },
      "outputs": [],
      "source": [
        "#vector = cv.fit_transform(new_recipes['recipies'].values.astype('U')).toarray()"
      ]
    },
    {
      "cell_type": "code",
      "execution_count": null,
      "metadata": {
        "colab": {
          "base_uri": "https://localhost:8080/"
        },
        "id": "zG1wvCoOPz6b",
        "outputId": "4a921fd0-c3ef-44f8-cb34-6374076176f6"
      },
      "outputs": [],
      "source": [
        "vector.shape"
      ]
    },
    {
      "cell_type": "code",
      "execution_count": null,
      "metadata": {
        "id": "-qSTmVEKPz3r"
      },
      "outputs": [],
      "source": [
        "from sklearn.metrics.pairwise import cosine_similarity"
      ]
    },
    {
      "cell_type": "code",
      "execution_count": null,
      "metadata": {
        "id": "G0uI0gmwPz00"
      },
      "outputs": [],
      "source": [
        "similarity = cosine_similarity(vector)"
      ]
    },
    {
      "cell_type": "code",
      "execution_count": null,
      "metadata": {
        "colab": {
          "base_uri": "https://localhost:8080/"
        },
        "id": "2-W9ksY7cH3I",
        "outputId": "c4ed09e9-78fb-45d4-f789-d07859ed5729"
      },
      "outputs": [],
      "source": [
        "similarity"
      ]
    },
    {
      "cell_type": "code",
      "execution_count": null,
      "metadata": {
        "colab": {
          "base_uri": "https://localhost:8080/"
        },
        "id": "EjxZo7-7cHzs",
        "outputId": "c5fb31ab-c391-4608-96a6-255c9b4edd46"
      },
      "outputs": [],
      "source": [
        "new_recipes [new_recipes['title'] == \"Zunka\"].index[0]"
      ]
    },
    {
      "cell_type": "code",
      "execution_count": null,
      "metadata": {
        "colab": {
          "base_uri": "https://localhost:8080/"
        },
        "id": "Tok2VtWAcNh1",
        "outputId": "33a60eea-e389-43af-8163-ce1e5c626170"
      },
      "outputs": [],
      "source": [
        "distance = sorted(list(enumerate(similarity[434])) , reverse = True , key = lambda vector:vector[1])\n",
        "for i in distance[0:2]:\n",
        "    print(f\"Recipe Name: {new_recipes.iloc[i[0]].title}\")\n",
        "    print(f\"RequiredTime: {new_recipes.iloc[i[0]].RequiredTime}\")\n",
        "    print(f\"Ingredients: {new_recipes.iloc[i[0]].Ingredients}\")\n",
        "    print(f\"Description: {new_recipes.iloc[i[0]].Description}\")\n",
        "    print(\"-------------------------------------------------------------------------------------------------------------------\")\n"
      ]
    },
    {
      "cell_type": "code",
      "execution_count": null,
      "metadata": {
        "colab": {
          "base_uri": "https://localhost:8080/"
        },
        "id": "P0nueuOTxx0y",
        "outputId": "77de0f26-cb50-45de-8c80-6520fac7d1c8"
      },
      "outputs": [],
      "source": [
        "new_recipes.columns"
      ]
    },
    {
      "cell_type": "code",
      "execution_count": null,
      "metadata": {
        "id": "uAEJXDKocNbp"
      },
      "outputs": [],
      "source": [
        "def recommand(raw_recipes):\n",
        "  index = new_recipes [new_recipes['title'] == raw_recipes].index[0]\n",
        "  distance = sorted(list(enumerate(similarity[index])) , reverse = True , key = lambda vector:vector[1])\n",
        "  for i in distance[0:5]:\n",
        "    print(f\"Recipe Name: {new_recipes.iloc[i[0]].title}\")\n",
        "    print(f\"RequiredTime: {new_recipes.iloc[i[0]].RequiredTime}\")\n",
        "    print(f\"Ingredients: {new_recipes.iloc[i[0]].Ingredients}\")\n",
        "    print(f\"Description: {new_recipes.iloc[i[0]].Description}\")\n",
        "    print(\"-------------------------------------------------------------------------------------------------------------------\")"
      ]
    },
    {
      "cell_type": "code",
      "execution_count": null,
      "metadata": {
        "colab": {
          "base_uri": "https://localhost:8080/"
        },
        "id": "uH3IFvCucNX9",
        "outputId": "f52eb533-3d70-4f9e-d192-019bd5d11fae"
      },
      "outputs": [],
      "source": [
        "recommand(input(\"Enter the rcipe name: \") )\n",
        "\n",
        "#Baitha Varan\n",
        "#Zunka\n",
        "#Alu Bhat\n",
        "# Amrit Modak\n",
        "#Batata Tomato Rassa Bhaji\n",
        "#Bhakarwadi(4)"
      ]
    },
    {
      "cell_type": "code",
      "execution_count": null,
      "metadata": {
        "colab": {
          "base_uri": "https://localhost:8080/",
          "height": 423
        },
        "id": "qFidpZZEcNVl",
        "outputId": "de17276c-1c16-4d45-8d42-d62eaf0b561f"
      },
      "outputs": [],
      "source": [
        "import pickle\n",
        "pickle.dump(new_recipes,open('recipes_list.pkl','wb'))\n",
        "pickle.dump(similarity,open('similarity.pkl','wb'))\n",
        "pickle.load(open('recipes_list.pkl','rb'))\n"
      ]
    },
    {
      "cell_type": "code",
      "execution_count": null,
      "metadata": {
        "id": "bpn6gOSDcNSM"
      },
      "outputs": [],
      "source": []
    },
    {
      "cell_type": "code",
      "execution_count": null,
      "metadata": {
        "id": "QEMFGRAr5zwj"
      },
      "outputs": [],
      "source": []
    }
  ],
  "metadata": {
    "colab": {
      "provenance": []
    },
    "kernelspec": {
      "display_name": "Python 3",
      "name": "python3"
    },
    "language_info": {
      "codemirror_mode": {
        "name": "ipython",
        "version": 3
      },
      "file_extension": ".py",
      "mimetype": "text/x-python",
      "name": "python",
      "nbconvert_exporter": "python",
      "pygments_lexer": "ipython3",
      "version": "3.10.2"
    }
  },
  "nbformat": 4,
  "nbformat_minor": 0
}
