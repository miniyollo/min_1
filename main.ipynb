{
  "cells": [
    {
      "cell_type": "code",
      "execution_count": 95,
      "metadata": {
        "id": "CX3zzDf-Z225"
      },
      "outputs": [],
      "source": [
        "import pandas as pd\n",
        "import matplotlib.pyplot as plt\n",
        "import numpy as np\n",
        "from collections import Counter\n",
        "\n",
        "import random\n",
        "import ast\n",
        "from sklearn.metrics.pairwise import cosine_similarity\n",
        "from scipy.spatial.distance import euclidean"
      ]
    },
    {
      "cell_type": "code",
      "execution_count": 96,
      "metadata": {
        "id": "r61FACkWZ2zc"
      },
      "outputs": [],
      "source": [
        "raw_recipes = pd.read_csv('food.csv')"
      ]
    },
    {
      "cell_type": "markdown",
      "metadata": {
        "id": "SG6XW_DlOuta"
      },
      "source": [
        "#Cleaning and EDA"
      ]
    },
    {
      "cell_type": "code",
      "execution_count": 97,
      "metadata": {
        "colab": {
          "base_uri": "https://localhost:8080/",
          "height": 340
        },
        "id": "9PYrfB_CZ2wc",
        "outputId": "accd69d6-4b75-4d96-92a4-9c1ea3e1dc3a"
      },
      "outputs": [
        {
          "data": {
            "text/html": [
              "<div>\n",
              "<style scoped>\n",
              "    .dataframe tbody tr th:only-of-type {\n",
              "        vertical-align: middle;\n",
              "    }\n",
              "\n",
              "    .dataframe tbody tr th {\n",
              "        vertical-align: top;\n",
              "    }\n",
              "\n",
              "    .dataframe thead th {\n",
              "        text-align: right;\n",
              "    }\n",
              "</style>\n",
              "<table border=\"1\" class=\"dataframe\">\n",
              "  <thead>\n",
              "    <tr style=\"text-align: right;\">\n",
              "      <th></th>\n",
              "      <th>RecipeID</th>\n",
              "      <th>recipe_name</th>\n",
              "      <th>recipies</th>\n",
              "      <th>By</th>\n",
              "      <th>Description</th>\n",
              "      <th>RequiredTime</th>\n",
              "      <th>Servings</th>\n",
              "      <th>Ingredients</th>\n",
              "      <th>Directions</th>\n",
              "      <th>Nutritions</th>\n",
              "      <th>Tags</th>\n",
              "      <th>ImageLink</th>\n",
              "      <th>ExtraTags</th>\n",
              "    </tr>\n",
              "  </thead>\n",
              "  <tbody>\n",
              "    <tr>\n",
              "      <th>0</th>\n",
              "      <td>1</td>\n",
              "      <td>Aamabtvaran recipe - How to make Aamabtvaran</td>\n",
              "      <td>Aamabtvaran</td>\n",
              "      <td>madhuri_a1</td>\n",
              "      <td>Aamabtvaran is a maharashtrian way of cooking ...</td>\n",
              "      <td>40</td>\n",
              "      <td>4</td>\n",
              "      <td>1 cup toovar (arhar) dal\\n1/2 tsp turmeric pow...</td>\n",
              "      <td>Method\\nPressure cook the dal with asafoeitda ...</td>\n",
              "      <td>{\"energy\" : \"N/A\", \"protein\" : \"N/A\", \"carbs\" ...</td>\n",
              "      <td>['Maharashtrian Dal, Varan / Amti / Kalvan']</td>\n",
              "      <td>https://www.tarladalal.com/images/recipe/addne...</td>\n",
              "      <td>['Maharashtrian Dal, Varan / Amti / Kalvan', '...</td>\n",
              "    </tr>\n",
              "    <tr>\n",
              "      <th>1</th>\n",
              "      <td>2</td>\n",
              "      <td>Aloo and Kand Rasawala Shaak, Faraal Recipe re...</td>\n",
              "      <td>Aloo and Kand Rasawala Shaak, Faraal Recipe</td>\n",
              "      <td>Tarla Dalal</td>\n",
              "      <td>This recipe is a mouth-watering preparation of...</td>\n",
              "      <td>24</td>\n",
              "      <td>4</td>\n",
              "      <td>1 cup boiled potato cubes\\n1 cup steamed purpl...</td>\n",
              "      <td>Method\\nCombine the curds, rajgira flour, salt...</td>\n",
              "      <td>{\"energy\" : \"157 cal\", \"protein\" : \"2.8 g\", \"c...</td>\n",
              "      <td>['Gujarati Shaak Sabzi', 'Gujarati Faral, Fara...</td>\n",
              "      <td>https://www.tarladalal.com/members/9306/big/bi...</td>\n",
              "      <td>['Gujarati Shaak Sabzi', 'Gujarati Faral, Fara...</td>\n",
              "    </tr>\n",
              "  </tbody>\n",
              "</table>\n",
              "</div>"
            ],
            "text/plain": [
              "   RecipeID                                        recipe_name  \\\n",
              "0         1       Aamabtvaran recipe - How to make Aamabtvaran   \n",
              "1         2  Aloo and Kand Rasawala Shaak, Faraal Recipe re...   \n",
              "\n",
              "                                      recipies           By  \\\n",
              "0                                  Aamabtvaran   madhuri_a1   \n",
              "1  Aloo and Kand Rasawala Shaak, Faraal Recipe  Tarla Dalal   \n",
              "\n",
              "                                         Description  RequiredTime  Servings  \\\n",
              "0  Aamabtvaran is a maharashtrian way of cooking ...            40         4   \n",
              "1  This recipe is a mouth-watering preparation of...            24         4   \n",
              "\n",
              "                                         Ingredients  \\\n",
              "0  1 cup toovar (arhar) dal\\n1/2 tsp turmeric pow...   \n",
              "1  1 cup boiled potato cubes\\n1 cup steamed purpl...   \n",
              "\n",
              "                                          Directions  \\\n",
              "0  Method\\nPressure cook the dal with asafoeitda ...   \n",
              "1  Method\\nCombine the curds, rajgira flour, salt...   \n",
              "\n",
              "                                          Nutritions  \\\n",
              "0  {\"energy\" : \"N/A\", \"protein\" : \"N/A\", \"carbs\" ...   \n",
              "1  {\"energy\" : \"157 cal\", \"protein\" : \"2.8 g\", \"c...   \n",
              "\n",
              "                                                Tags  \\\n",
              "0       ['Maharashtrian Dal, Varan / Amti / Kalvan']   \n",
              "1  ['Gujarati Shaak Sabzi', 'Gujarati Faral, Fara...   \n",
              "\n",
              "                                           ImageLink  \\\n",
              "0  https://www.tarladalal.com/images/recipe/addne...   \n",
              "1  https://www.tarladalal.com/members/9306/big/bi...   \n",
              "\n",
              "                                           ExtraTags  \n",
              "0  ['Maharashtrian Dal, Varan / Amti / Kalvan', '...  \n",
              "1  ['Gujarati Shaak Sabzi', 'Gujarati Faral, Fara...  "
            ]
          },
          "execution_count": 97,
          "metadata": {},
          "output_type": "execute_result"
        }
      ],
      "source": [
        "raw_recipes.head(2)"
      ]
    },
    {
      "cell_type": "code",
      "execution_count": 98,
      "metadata": {
        "colab": {
          "base_uri": "https://localhost:8080/"
        },
        "id": "SXkJTO8FZ2qg",
        "outputId": "5a86b788-2a7c-4afc-83cd-3dda3f719647"
      },
      "outputs": [
        {
          "data": {
            "text/plain": [
              "(436, 13)"
            ]
          },
          "execution_count": 98,
          "metadata": {},
          "output_type": "execute_result"
        }
      ],
      "source": [
        "raw_recipes.shape"
      ]
    },
    {
      "cell_type": "code",
      "execution_count": 99,
      "metadata": {
        "colab": {
          "base_uri": "https://localhost:8080/",
          "height": 300
        },
        "id": "inNrVBU_OCQ_",
        "outputId": "bf9910c3-d90c-4baf-860c-e52bb8fd2187"
      },
      "outputs": [
        {
          "data": {
            "text/html": [
              "<div>\n",
              "<style scoped>\n",
              "    .dataframe tbody tr th:only-of-type {\n",
              "        vertical-align: middle;\n",
              "    }\n",
              "\n",
              "    .dataframe tbody tr th {\n",
              "        vertical-align: top;\n",
              "    }\n",
              "\n",
              "    .dataframe thead th {\n",
              "        text-align: right;\n",
              "    }\n",
              "</style>\n",
              "<table border=\"1\" class=\"dataframe\">\n",
              "  <thead>\n",
              "    <tr style=\"text-align: right;\">\n",
              "      <th></th>\n",
              "      <th>RecipeID</th>\n",
              "      <th>RequiredTime</th>\n",
              "      <th>Servings</th>\n",
              "    </tr>\n",
              "  </thead>\n",
              "  <tbody>\n",
              "    <tr>\n",
              "      <th>count</th>\n",
              "      <td>436.000000</td>\n",
              "      <td>436.000000</td>\n",
              "      <td>436.000000</td>\n",
              "    </tr>\n",
              "    <tr>\n",
              "      <th>mean</th>\n",
              "      <td>218.500000</td>\n",
              "      <td>24.635321</td>\n",
              "      <td>5.011468</td>\n",
              "    </tr>\n",
              "    <tr>\n",
              "      <th>std</th>\n",
              "      <td>126.006614</td>\n",
              "      <td>13.650061</td>\n",
              "      <td>12.523352</td>\n",
              "    </tr>\n",
              "    <tr>\n",
              "      <th>min</th>\n",
              "      <td>1.000000</td>\n",
              "      <td>0.000000</td>\n",
              "      <td>1.000000</td>\n",
              "    </tr>\n",
              "    <tr>\n",
              "      <th>25%</th>\n",
              "      <td>109.750000</td>\n",
              "      <td>15.000000</td>\n",
              "      <td>2.000000</td>\n",
              "    </tr>\n",
              "    <tr>\n",
              "      <th>50%</th>\n",
              "      <td>218.500000</td>\n",
              "      <td>25.000000</td>\n",
              "      <td>4.000000</td>\n",
              "    </tr>\n",
              "    <tr>\n",
              "      <th>75%</th>\n",
              "      <td>327.250000</td>\n",
              "      <td>35.000000</td>\n",
              "      <td>4.000000</td>\n",
              "    </tr>\n",
              "    <tr>\n",
              "      <th>max</th>\n",
              "      <td>436.000000</td>\n",
              "      <td>55.000000</td>\n",
              "      <td>250.000000</td>\n",
              "    </tr>\n",
              "  </tbody>\n",
              "</table>\n",
              "</div>"
            ],
            "text/plain": [
              "         RecipeID  RequiredTime    Servings\n",
              "count  436.000000    436.000000  436.000000\n",
              "mean   218.500000     24.635321    5.011468\n",
              "std    126.006614     13.650061   12.523352\n",
              "min      1.000000      0.000000    1.000000\n",
              "25%    109.750000     15.000000    2.000000\n",
              "50%    218.500000     25.000000    4.000000\n",
              "75%    327.250000     35.000000    4.000000\n",
              "max    436.000000     55.000000  250.000000"
            ]
          },
          "execution_count": 99,
          "metadata": {},
          "output_type": "execute_result"
        }
      ],
      "source": [
        "raw_recipes.describe()"
      ]
    },
    {
      "cell_type": "code",
      "execution_count": 100,
      "metadata": {
        "colab": {
          "base_uri": "https://localhost:8080/",
          "height": 244
        },
        "id": "XZQcxBazOLSp",
        "outputId": "6032ff84-08ee-478f-ab41-d7ae1bc7900c"
      },
      "outputs": [
        {
          "data": {
            "text/html": [
              "<div>\n",
              "<style scoped>\n",
              "    .dataframe tbody tr th:only-of-type {\n",
              "        vertical-align: middle;\n",
              "    }\n",
              "\n",
              "    .dataframe tbody tr th {\n",
              "        vertical-align: top;\n",
              "    }\n",
              "\n",
              "    .dataframe thead th {\n",
              "        text-align: right;\n",
              "    }\n",
              "</style>\n",
              "<table border=\"1\" class=\"dataframe\">\n",
              "  <thead>\n",
              "    <tr style=\"text-align: right;\">\n",
              "      <th></th>\n",
              "      <th>recipe_name</th>\n",
              "      <th>recipies</th>\n",
              "      <th>By</th>\n",
              "      <th>Description</th>\n",
              "      <th>Ingredients</th>\n",
              "      <th>Directions</th>\n",
              "      <th>Nutritions</th>\n",
              "      <th>Tags</th>\n",
              "      <th>ImageLink</th>\n",
              "      <th>ExtraTags</th>\n",
              "    </tr>\n",
              "  </thead>\n",
              "  <tbody>\n",
              "    <tr>\n",
              "      <th>count</th>\n",
              "      <td>436</td>\n",
              "      <td>436</td>\n",
              "      <td>436</td>\n",
              "      <td>436</td>\n",
              "      <td>436</td>\n",
              "      <td>436</td>\n",
              "      <td>436</td>\n",
              "      <td>436</td>\n",
              "      <td>436</td>\n",
              "      <td>436</td>\n",
              "    </tr>\n",
              "    <tr>\n",
              "      <th>unique</th>\n",
              "      <td>434</td>\n",
              "      <td>434</td>\n",
              "      <td>103</td>\n",
              "      <td>435</td>\n",
              "      <td>430</td>\n",
              "      <td>431</td>\n",
              "      <td>204</td>\n",
              "      <td>371</td>\n",
              "      <td>329</td>\n",
              "      <td>435</td>\n",
              "    </tr>\n",
              "    <tr>\n",
              "      <th>top</th>\n",
              "      <td>Spring Dosa ( Mumbai Roadside Recipes) recipe ...</td>\n",
              "      <td>Spring Dosa ( Mumbai Roadside Recipes)</td>\n",
              "      <td>Tarla Dalal</td>\n",
              "      <td>What does spring mean to you? A bounty of vegg...</td>\n",
              "      <td>1 1/2 cups soaked sago (sabudana) , refer hand...</td>\n",
              "      <td>Method\\n\\nWash, drain and soak the sabudana in...</td>\n",
              "      <td>{\"energy\" : \"N/A\", \"protein\" : \"N/A\", \"carbs\" ...</td>\n",
              "      <td>['Maharashtrian Sweet Dishes']</td>\n",
              "      <td>https://www.tarladalal.com/images/recipe/addne...</td>\n",
              "      <td>['South Indian', 'Different Types of Dosa', 'S...</td>\n",
              "    </tr>\n",
              "    <tr>\n",
              "      <th>freq</th>\n",
              "      <td>2</td>\n",
              "      <td>2</td>\n",
              "      <td>288</td>\n",
              "      <td>2</td>\n",
              "      <td>2</td>\n",
              "      <td>2</td>\n",
              "      <td>231</td>\n",
              "      <td>9</td>\n",
              "      <td>107</td>\n",
              "      <td>2</td>\n",
              "    </tr>\n",
              "  </tbody>\n",
              "</table>\n",
              "</div>"
            ],
            "text/plain": [
              "                                              recipe_name  \\\n",
              "count                                                 436   \n",
              "unique                                                434   \n",
              "top     Spring Dosa ( Mumbai Roadside Recipes) recipe ...   \n",
              "freq                                                    2   \n",
              "\n",
              "                                      recipies           By  \\\n",
              "count                                      436          436   \n",
              "unique                                     434          103   \n",
              "top     Spring Dosa ( Mumbai Roadside Recipes)  Tarla Dalal   \n",
              "freq                                         2          288   \n",
              "\n",
              "                                              Description  \\\n",
              "count                                                 436   \n",
              "unique                                                435   \n",
              "top     What does spring mean to you? A bounty of vegg...   \n",
              "freq                                                    2   \n",
              "\n",
              "                                              Ingredients  \\\n",
              "count                                                 436   \n",
              "unique                                                430   \n",
              "top     1 1/2 cups soaked sago (sabudana) , refer hand...   \n",
              "freq                                                    2   \n",
              "\n",
              "                                               Directions  \\\n",
              "count                                                 436   \n",
              "unique                                                431   \n",
              "top     Method\\n\\nWash, drain and soak the sabudana in...   \n",
              "freq                                                    2   \n",
              "\n",
              "                                               Nutritions  \\\n",
              "count                                                 436   \n",
              "unique                                                204   \n",
              "top     {\"energy\" : \"N/A\", \"protein\" : \"N/A\", \"carbs\" ...   \n",
              "freq                                                  231   \n",
              "\n",
              "                                  Tags  \\\n",
              "count                              436   \n",
              "unique                             371   \n",
              "top     ['Maharashtrian Sweet Dishes']   \n",
              "freq                                 9   \n",
              "\n",
              "                                                ImageLink  \\\n",
              "count                                                 436   \n",
              "unique                                                329   \n",
              "top     https://www.tarladalal.com/images/recipe/addne...   \n",
              "freq                                                  107   \n",
              "\n",
              "                                                ExtraTags  \n",
              "count                                                 436  \n",
              "unique                                                435  \n",
              "top     ['South Indian', 'Different Types of Dosa', 'S...  \n",
              "freq                                                    2  "
            ]
          },
          "execution_count": 100,
          "metadata": {},
          "output_type": "execute_result"
        }
      ],
      "source": [
        "raw_recipes.describe(include='object')"
      ]
    },
    {
      "cell_type": "code",
      "execution_count": 101,
      "metadata": {
        "colab": {
          "base_uri": "https://localhost:8080/"
        },
        "id": "CRLmnZJTOPql",
        "outputId": "015dab6b-e95c-4804-edc2-900521ebc150"
      },
      "outputs": [
        {
          "data": {
            "text/plain": [
              "RecipeID        0\n",
              "recipe_name     0\n",
              "recipies        0\n",
              "By              0\n",
              "Description     0\n",
              "RequiredTime    0\n",
              "Servings        0\n",
              "Ingredients     0\n",
              "Directions      0\n",
              "Nutritions      0\n",
              "Tags            0\n",
              "ImageLink       0\n",
              "ExtraTags       0\n",
              "dtype: int64"
            ]
          },
          "execution_count": 101,
          "metadata": {},
          "output_type": "execute_result"
        }
      ],
      "source": [
        "raw_recipes.isnull().sum()"
      ]
    },
    {
      "cell_type": "code",
      "execution_count": 102,
      "metadata": {
        "colab": {
          "base_uri": "https://localhost:8080/",
          "height": 1000
        },
        "id": "R6SsPmGTNKWv",
        "outputId": "fc089d33-1c25-480c-80db-4f92b8a7735e"
      },
      "outputs": [
        {
          "data": {
            "text/html": [
              "<div>\n",
              "<style scoped>\n",
              "    .dataframe tbody tr th:only-of-type {\n",
              "        vertical-align: middle;\n",
              "    }\n",
              "\n",
              "    .dataframe tbody tr th {\n",
              "        vertical-align: top;\n",
              "    }\n",
              "\n",
              "    .dataframe thead th {\n",
              "        text-align: right;\n",
              "    }\n",
              "</style>\n",
              "<table border=\"1\" class=\"dataframe\">\n",
              "  <thead>\n",
              "    <tr style=\"text-align: right;\">\n",
              "      <th></th>\n",
              "      <th>RecipeID</th>\n",
              "      <th>recipe_name</th>\n",
              "      <th>recipies</th>\n",
              "      <th>By</th>\n",
              "      <th>Description</th>\n",
              "      <th>RequiredTime</th>\n",
              "      <th>Servings</th>\n",
              "      <th>Ingredients</th>\n",
              "      <th>Directions</th>\n",
              "      <th>Nutritions</th>\n",
              "      <th>Tags</th>\n",
              "      <th>ImageLink</th>\n",
              "      <th>ExtraTags</th>\n",
              "    </tr>\n",
              "  </thead>\n",
              "  <tbody>\n",
              "    <tr>\n",
              "      <th>0</th>\n",
              "      <td>1</td>\n",
              "      <td>Aamabtvaran recipe - How to make Aamabtvaran</td>\n",
              "      <td>Aamabtvaran</td>\n",
              "      <td>madhuri_a1</td>\n",
              "      <td>Aamabtvaran is a maharashtrian way of cooking ...</td>\n",
              "      <td>40</td>\n",
              "      <td>4</td>\n",
              "      <td>1 cup toovar (arhar) dal\\n1/2 tsp turmeric pow...</td>\n",
              "      <td>Method\\nPressure cook the dal with asafoeitda ...</td>\n",
              "      <td>{\"energy\" : \"N/A\", \"protein\" : \"N/A\", \"carbs\" ...</td>\n",
              "      <td>['Maharashtrian Dal, Varan / Amti / Kalvan']</td>\n",
              "      <td>https://www.tarladalal.com/images/recipe/addne...</td>\n",
              "      <td>['Maharashtrian Dal, Varan / Amti / Kalvan', '...</td>\n",
              "    </tr>\n",
              "    <tr>\n",
              "      <th>1</th>\n",
              "      <td>2</td>\n",
              "      <td>Aloo and Kand Rasawala Shaak, Faraal Recipe re...</td>\n",
              "      <td>Aloo and Kand Rasawala Shaak, Faraal Recipe</td>\n",
              "      <td>Tarla Dalal</td>\n",
              "      <td>This recipe is a mouth-watering preparation of...</td>\n",
              "      <td>24</td>\n",
              "      <td>4</td>\n",
              "      <td>1 cup boiled potato cubes\\n1 cup steamed purpl...</td>\n",
              "      <td>Method\\nCombine the curds, rajgira flour, salt...</td>\n",
              "      <td>{\"energy\" : \"157 cal\", \"protein\" : \"2.8 g\", \"c...</td>\n",
              "      <td>['Gujarati Shaak Sabzi', 'Gujarati Faral, Fara...</td>\n",
              "      <td>https://www.tarladalal.com/members/9306/big/bi...</td>\n",
              "      <td>['Gujarati Shaak Sabzi', 'Gujarati Faral, Fara...</td>\n",
              "    </tr>\n",
              "    <tr>\n",
              "      <th>2</th>\n",
              "      <td>3</td>\n",
              "      <td>Aloo Chaat ( Mumbai Roadside Recipes ) recipe ...</td>\n",
              "      <td>Aloo Chaat ( Mumbai Roadside Recipes )</td>\n",
              "      <td>Tarla Dalal</td>\n",
              "      <td>aloo chaat recipe | Mumbai roadside aloo chaat...</td>\n",
              "      <td>14</td>\n",
              "      <td>2</td>\n",
              "      <td>For The Aloo Chaat Marinated Potatoes\\n1 1/4 c...</td>\n",
              "      <td>Method\\nFor the aloo chaat marinated potatoes\\...</td>\n",
              "      <td>{\"energy\" : \"656 cal\", \"protein\" : \"17.8 g\", \"...</td>\n",
              "      <td>['Indian Veg Recipes', 'Mumbai Street Food', '...</td>\n",
              "      <td>https://www.tarladalal.com/members/9306/big/bi...</td>\n",
              "      <td>['Indian Veg Recipes', 'Mumbai Street Food', '...</td>\n",
              "    </tr>\n",
              "    <tr>\n",
              "      <th>3</th>\n",
              "      <td>4</td>\n",
              "      <td>Aloo ki Kadhi Recipe recipe - How to make Aloo...</td>\n",
              "      <td>Aloo ki Kadhi Recipe</td>\n",
              "      <td>vrunda naik</td>\n",
              "      <td>Seeking to satiate your appetite on fasting da...</td>\n",
              "      <td>40</td>\n",
              "      <td>4</td>\n",
              "      <td>For The Pakodas\\n1/2 kg potatoes , boiled , pe...</td>\n",
              "      <td>Method\\nFor the pakodas\\nTo make pakodas for t...</td>\n",
              "      <td>{\"energy\" : \"N/A\", \"protein\" : \"N/A\", \"carbs\" ...</td>\n",
              "      <td>['Gujarati Faral, Faraal', 'Maharashtrian Upva...</td>\n",
              "      <td>https://www.tarladalal.com/images/recipe/addne...</td>\n",
              "      <td>['Gujarati Faral, Faraal', 'Maharashtrian Upva...</td>\n",
              "    </tr>\n",
              "    <tr>\n",
              "      <th>4</th>\n",
              "      <td>5</td>\n",
              "      <td>Alu Bhat recipe - How to make Alu Bhat</td>\n",
              "      <td>Alu Bhat</td>\n",
              "      <td>arathi_receipe</td>\n",
              "      <td>A vegetable dish which is common in most benga...</td>\n",
              "      <td>40</td>\n",
              "      <td>6</td>\n",
              "      <td>To Be Blended Into A Smooth Paste\\n1/2 cup cho...</td>\n",
              "      <td>Method\\nHeat the oil in a kadai and add cloves...</td>\n",
              "      <td>{\"energy\" : \"N/A\", \"protein\" : \"N/A\", \"carbs\" ...</td>\n",
              "      <td>['Gujarati Khichdi', 'Maharashtrian Bhaat (Ric...</td>\n",
              "      <td>https://www.tarladalal.com/images/recipe/addne...</td>\n",
              "      <td>['Gujarati Khichdi', 'Maharashtrian Bhaat (Ric...</td>\n",
              "    </tr>\n",
              "    <tr>\n",
              "      <th>...</th>\n",
              "      <td>...</td>\n",
              "      <td>...</td>\n",
              "      <td>...</td>\n",
              "      <td>...</td>\n",
              "      <td>...</td>\n",
              "      <td>...</td>\n",
              "      <td>...</td>\n",
              "      <td>...</td>\n",
              "      <td>...</td>\n",
              "      <td>...</td>\n",
              "      <td>...</td>\n",
              "      <td>...</td>\n",
              "      <td>...</td>\n",
              "    </tr>\n",
              "    <tr>\n",
              "      <th>431</th>\n",
              "      <td>432</td>\n",
              "      <td>Whole Wheat Roti Chivda recipe - How to make W...</td>\n",
              "      <td>Whole Wheat Roti Chivda</td>\n",
              "      <td>Tarla Dalal</td>\n",
              "      <td>Whole Wheat Roti Chivda is a light and tasty s...</td>\n",
              "      <td>25</td>\n",
              "      <td>3</td>\n",
              "      <td>For The Whole Wheat Rotis\\n1 1/4 cups whole wh...</td>\n",
              "      <td>Method\\nFor the whole wheat rotis\\nCombine the...</td>\n",
              "      <td>{\"energy\" : \"N/A\", \"protein\" : \"N/A\", \"carbs\" ...</td>\n",
              "      <td>['Maharashtrian Snacks Nashta', 'Maharashtrian...</td>\n",
              "      <td>https://www.tarladalal.com/members/9306/big/bi...</td>\n",
              "      <td>['Maharashtrian Snacks Nashta', 'Maharashtrian...</td>\n",
              "    </tr>\n",
              "    <tr>\n",
              "      <th>432</th>\n",
              "      <td>433</td>\n",
              "      <td>Yam Raita, Farali Suran Raita Recipe recipe - ...</td>\n",
              "      <td>Yam Raita, Farali Suran Raita Recipe</td>\n",
              "      <td>Tarla Dalal</td>\n",
              "      <td>yam raita recipe | farali suran raita | senai ...</td>\n",
              "      <td>10</td>\n",
              "      <td>1</td>\n",
              "      <td>For Yam Raita\\n1 cup peeled , boiled and mashe...</td>\n",
              "      <td>Method\\nFor yam raita\\nTo make yam raita, comb...</td>\n",
              "      <td>{\"energy\" : \"N/A\", \"protein\" : \"N/A\", \"carbs\" ...</td>\n",
              "      <td>['Gujarati Kachumber / Chutneys / Achar', 'Guj...</td>\n",
              "      <td>https://www.tarladalal.com/members/9306/big/bi...</td>\n",
              "      <td>['Gujarati Kachumber / Chutneys / Achar', 'Guj...</td>\n",
              "    </tr>\n",
              "    <tr>\n",
              "      <th>433</th>\n",
              "      <td>434</td>\n",
              "      <td>Yummy Pudina Rice recipe - How to make Yummy P...</td>\n",
              "      <td>Yummy Pudina Rice</td>\n",
              "      <td>Jyoti V B</td>\n",
              "      <td>This is a tasty rice, try this with tomato and...</td>\n",
              "      <td>30</td>\n",
              "      <td>4</td>\n",
              "      <td>2 cups long grained rice (basmati)\\nsalt to ta...</td>\n",
              "      <td>Method\\nPressure cook the rice till 2 whistles...</td>\n",
              "      <td>{\"energy\" : \"N/A\", \"protein\" : \"N/A\", \"carbs\" ...</td>\n",
              "      <td>['Maharashtrian Bhaat (Rice)']</td>\n",
              "      <td>https://www.tarladalal.com/members/575789/big/...</td>\n",
              "      <td>['Maharashtrian Bhaat (Rice)', 'Yummy Pudina R...</td>\n",
              "    </tr>\n",
              "    <tr>\n",
              "      <th>434</th>\n",
              "      <td>435</td>\n",
              "      <td>Zunka recipe - How to make Zunka</td>\n",
              "      <td>Zunka</td>\n",
              "      <td>Tarla Dalal</td>\n",
              "      <td>zunka recipe | jhunka | Marathi zunka bhakar |...</td>\n",
              "      <td>29</td>\n",
              "      <td>4</td>\n",
              "      <td>For Zunka\\n1 cup besan (bengal gram flour)\\n2 ...</td>\n",
              "      <td>Method\\nHeat the oil in a deep non-stick kadha...</td>\n",
              "      <td>{\"energy\" : \"N/A\", \"protein\" : \"N/A\", \"carbs\" ...</td>\n",
              "      <td>['Maharashtrian Bhaji', 'Quick Sabzis', 'Tradi...</td>\n",
              "      <td>https://www.tarladalal.com/members/9306/big/bi...</td>\n",
              "      <td>['Maharashtrian Bhaji', 'Quick Sabzis', 'Tradi...</td>\n",
              "    </tr>\n",
              "    <tr>\n",
              "      <th>435</th>\n",
              "      <td>436</td>\n",
              "      <td>Zunka Bhakri - Maharashtrian Dish recipe - How...</td>\n",
              "      <td>Zunka Bhakri - Maharashtrian Dish</td>\n",
              "      <td>vinodsharma</td>\n",
              "      <td>Zunka bhakri - Maharashtrian dish is a traditi...</td>\n",
              "      <td>30</td>\n",
              "      <td>1</td>\n",
              "      <td>For the wet mix (ghol)\\n1 glass water\\n2 onion...</td>\n",
              "      <td>Method\\n\\nMix water, onions, chilli powder, tu...</td>\n",
              "      <td>{\"energy\" : \"N/A\", \"protein\" : \"N/A\", \"carbs\" ...</td>\n",
              "      <td>['Maharashtrian Rotis / Polis', 'Maharashtrian...</td>\n",
              "      <td>https://www.tarladalal.com/images/recipe/addne...</td>\n",
              "      <td>['Maharashtrian Rotis / Polis', 'Maharashtrian...</td>\n",
              "    </tr>\n",
              "  </tbody>\n",
              "</table>\n",
              "<p>436 rows × 13 columns</p>\n",
              "</div>"
            ],
            "text/plain": [
              "     RecipeID                                        recipe_name  \\\n",
              "0           1       Aamabtvaran recipe - How to make Aamabtvaran   \n",
              "1           2  Aloo and Kand Rasawala Shaak, Faraal Recipe re...   \n",
              "2           3  Aloo Chaat ( Mumbai Roadside Recipes ) recipe ...   \n",
              "3           4  Aloo ki Kadhi Recipe recipe - How to make Aloo...   \n",
              "4           5             Alu Bhat recipe - How to make Alu Bhat   \n",
              "..        ...                                                ...   \n",
              "431       432  Whole Wheat Roti Chivda recipe - How to make W...   \n",
              "432       433  Yam Raita, Farali Suran Raita Recipe recipe - ...   \n",
              "433       434  Yummy Pudina Rice recipe - How to make Yummy P...   \n",
              "434       435                   Zunka recipe - How to make Zunka   \n",
              "435       436  Zunka Bhakri - Maharashtrian Dish recipe - How...   \n",
              "\n",
              "                                        recipies              By  \\\n",
              "0                                    Aamabtvaran      madhuri_a1   \n",
              "1    Aloo and Kand Rasawala Shaak, Faraal Recipe     Tarla Dalal   \n",
              "2         Aloo Chaat ( Mumbai Roadside Recipes )     Tarla Dalal   \n",
              "3                           Aloo ki Kadhi Recipe     vrunda naik   \n",
              "4                                       Alu Bhat  arathi_receipe   \n",
              "..                                           ...             ...   \n",
              "431                      Whole Wheat Roti Chivda     Tarla Dalal   \n",
              "432         Yam Raita, Farali Suran Raita Recipe     Tarla Dalal   \n",
              "433                            Yummy Pudina Rice       Jyoti V B   \n",
              "434                                        Zunka     Tarla Dalal   \n",
              "435            Zunka Bhakri - Maharashtrian Dish     vinodsharma   \n",
              "\n",
              "                                           Description  RequiredTime  \\\n",
              "0    Aamabtvaran is a maharashtrian way of cooking ...            40   \n",
              "1    This recipe is a mouth-watering preparation of...            24   \n",
              "2    aloo chaat recipe | Mumbai roadside aloo chaat...            14   \n",
              "3    Seeking to satiate your appetite on fasting da...            40   \n",
              "4    A vegetable dish which is common in most benga...            40   \n",
              "..                                                 ...           ...   \n",
              "431  Whole Wheat Roti Chivda is a light and tasty s...            25   \n",
              "432  yam raita recipe | farali suran raita | senai ...            10   \n",
              "433  This is a tasty rice, try this with tomato and...            30   \n",
              "434  zunka recipe | jhunka | Marathi zunka bhakar |...            29   \n",
              "435  Zunka bhakri - Maharashtrian dish is a traditi...            30   \n",
              "\n",
              "     Servings                                        Ingredients  \\\n",
              "0           4  1 cup toovar (arhar) dal\\n1/2 tsp turmeric pow...   \n",
              "1           4  1 cup boiled potato cubes\\n1 cup steamed purpl...   \n",
              "2           2  For The Aloo Chaat Marinated Potatoes\\n1 1/4 c...   \n",
              "3           4  For The Pakodas\\n1/2 kg potatoes , boiled , pe...   \n",
              "4           6  To Be Blended Into A Smooth Paste\\n1/2 cup cho...   \n",
              "..        ...                                                ...   \n",
              "431         3  For The Whole Wheat Rotis\\n1 1/4 cups whole wh...   \n",
              "432         1  For Yam Raita\\n1 cup peeled , boiled and mashe...   \n",
              "433         4  2 cups long grained rice (basmati)\\nsalt to ta...   \n",
              "434         4  For Zunka\\n1 cup besan (bengal gram flour)\\n2 ...   \n",
              "435         1  For the wet mix (ghol)\\n1 glass water\\n2 onion...   \n",
              "\n",
              "                                            Directions  \\\n",
              "0    Method\\nPressure cook the dal with asafoeitda ...   \n",
              "1    Method\\nCombine the curds, rajgira flour, salt...   \n",
              "2    Method\\nFor the aloo chaat marinated potatoes\\...   \n",
              "3    Method\\nFor the pakodas\\nTo make pakodas for t...   \n",
              "4    Method\\nHeat the oil in a kadai and add cloves...   \n",
              "..                                                 ...   \n",
              "431  Method\\nFor the whole wheat rotis\\nCombine the...   \n",
              "432  Method\\nFor yam raita\\nTo make yam raita, comb...   \n",
              "433  Method\\nPressure cook the rice till 2 whistles...   \n",
              "434  Method\\nHeat the oil in a deep non-stick kadha...   \n",
              "435  Method\\n\\nMix water, onions, chilli powder, tu...   \n",
              "\n",
              "                                            Nutritions  \\\n",
              "0    {\"energy\" : \"N/A\", \"protein\" : \"N/A\", \"carbs\" ...   \n",
              "1    {\"energy\" : \"157 cal\", \"protein\" : \"2.8 g\", \"c...   \n",
              "2    {\"energy\" : \"656 cal\", \"protein\" : \"17.8 g\", \"...   \n",
              "3    {\"energy\" : \"N/A\", \"protein\" : \"N/A\", \"carbs\" ...   \n",
              "4    {\"energy\" : \"N/A\", \"protein\" : \"N/A\", \"carbs\" ...   \n",
              "..                                                 ...   \n",
              "431  {\"energy\" : \"N/A\", \"protein\" : \"N/A\", \"carbs\" ...   \n",
              "432  {\"energy\" : \"N/A\", \"protein\" : \"N/A\", \"carbs\" ...   \n",
              "433  {\"energy\" : \"N/A\", \"protein\" : \"N/A\", \"carbs\" ...   \n",
              "434  {\"energy\" : \"N/A\", \"protein\" : \"N/A\", \"carbs\" ...   \n",
              "435  {\"energy\" : \"N/A\", \"protein\" : \"N/A\", \"carbs\" ...   \n",
              "\n",
              "                                                  Tags  \\\n",
              "0         ['Maharashtrian Dal, Varan / Amti / Kalvan']   \n",
              "1    ['Gujarati Shaak Sabzi', 'Gujarati Faral, Fara...   \n",
              "2    ['Indian Veg Recipes', 'Mumbai Street Food', '...   \n",
              "3    ['Gujarati Faral, Faraal', 'Maharashtrian Upva...   \n",
              "4    ['Gujarati Khichdi', 'Maharashtrian Bhaat (Ric...   \n",
              "..                                                 ...   \n",
              "431  ['Maharashtrian Snacks Nashta', 'Maharashtrian...   \n",
              "432  ['Gujarati Kachumber / Chutneys / Achar', 'Guj...   \n",
              "433                     ['Maharashtrian Bhaat (Rice)']   \n",
              "434  ['Maharashtrian Bhaji', 'Quick Sabzis', 'Tradi...   \n",
              "435  ['Maharashtrian Rotis / Polis', 'Maharashtrian...   \n",
              "\n",
              "                                             ImageLink  \\\n",
              "0    https://www.tarladalal.com/images/recipe/addne...   \n",
              "1    https://www.tarladalal.com/members/9306/big/bi...   \n",
              "2    https://www.tarladalal.com/members/9306/big/bi...   \n",
              "3    https://www.tarladalal.com/images/recipe/addne...   \n",
              "4    https://www.tarladalal.com/images/recipe/addne...   \n",
              "..                                                 ...   \n",
              "431  https://www.tarladalal.com/members/9306/big/bi...   \n",
              "432  https://www.tarladalal.com/members/9306/big/bi...   \n",
              "433  https://www.tarladalal.com/members/575789/big/...   \n",
              "434  https://www.tarladalal.com/members/9306/big/bi...   \n",
              "435  https://www.tarladalal.com/images/recipe/addne...   \n",
              "\n",
              "                                             ExtraTags  \n",
              "0    ['Maharashtrian Dal, Varan / Amti / Kalvan', '...  \n",
              "1    ['Gujarati Shaak Sabzi', 'Gujarati Faral, Fara...  \n",
              "2    ['Indian Veg Recipes', 'Mumbai Street Food', '...  \n",
              "3    ['Gujarati Faral, Faraal', 'Maharashtrian Upva...  \n",
              "4    ['Gujarati Khichdi', 'Maharashtrian Bhaat (Ric...  \n",
              "..                                                 ...  \n",
              "431  ['Maharashtrian Snacks Nashta', 'Maharashtrian...  \n",
              "432  ['Gujarati Kachumber / Chutneys / Achar', 'Guj...  \n",
              "433  ['Maharashtrian Bhaat (Rice)', 'Yummy Pudina R...  \n",
              "434  ['Maharashtrian Bhaji', 'Quick Sabzis', 'Tradi...  \n",
              "435  ['Maharashtrian Rotis / Polis', 'Maharashtrian...  \n",
              "\n",
              "[436 rows x 13 columns]"
            ]
          },
          "execution_count": 102,
          "metadata": {},
          "output_type": "execute_result"
        }
      ],
      "source": [
        "raw_recipes.fillna(0)"
      ]
    },
    {
      "cell_type": "code",
      "execution_count": 103,
      "metadata": {
        "colab": {
          "base_uri": "https://localhost:8080/",
          "height": 1000
        },
        "id": "oBiOJ2RGNNqS",
        "outputId": "e9ee9472-b434-4310-b500-cadffb4337f4"
      },
      "outputs": [
        {
          "data": {
            "text/html": [
              "<div>\n",
              "<style scoped>\n",
              "    .dataframe tbody tr th:only-of-type {\n",
              "        vertical-align: middle;\n",
              "    }\n",
              "\n",
              "    .dataframe tbody tr th {\n",
              "        vertical-align: top;\n",
              "    }\n",
              "\n",
              "    .dataframe thead th {\n",
              "        text-align: right;\n",
              "    }\n",
              "</style>\n",
              "<table border=\"1\" class=\"dataframe\">\n",
              "  <thead>\n",
              "    <tr style=\"text-align: right;\">\n",
              "      <th></th>\n",
              "      <th>RecipeID</th>\n",
              "      <th>recipe_name</th>\n",
              "      <th>recipies</th>\n",
              "      <th>By</th>\n",
              "      <th>Description</th>\n",
              "      <th>RequiredTime</th>\n",
              "      <th>Servings</th>\n",
              "      <th>Ingredients</th>\n",
              "      <th>Directions</th>\n",
              "      <th>Nutritions</th>\n",
              "      <th>Tags</th>\n",
              "      <th>ImageLink</th>\n",
              "      <th>ExtraTags</th>\n",
              "    </tr>\n",
              "  </thead>\n",
              "  <tbody>\n",
              "    <tr>\n",
              "      <th>0</th>\n",
              "      <td>1</td>\n",
              "      <td>Aamabtvaran recipe - How to make Aamabtvaran</td>\n",
              "      <td>Aamabtvaran</td>\n",
              "      <td>madhuri_a1</td>\n",
              "      <td>Aamabtvaran is a maharashtrian way of cooking ...</td>\n",
              "      <td>40</td>\n",
              "      <td>4</td>\n",
              "      <td>1 cup toovar (arhar) dal\\n1/2 tsp turmeric pow...</td>\n",
              "      <td>Method\\nPressure cook the dal with asafoeitda ...</td>\n",
              "      <td>{\"energy\" : \"N/A\", \"protein\" : \"N/A\", \"carbs\" ...</td>\n",
              "      <td>['Maharashtrian Dal, Varan / Amti / Kalvan']</td>\n",
              "      <td>https://www.tarladalal.com/images/recipe/addne...</td>\n",
              "      <td>['Maharashtrian Dal, Varan / Amti / Kalvan', '...</td>\n",
              "    </tr>\n",
              "    <tr>\n",
              "      <th>1</th>\n",
              "      <td>2</td>\n",
              "      <td>Aloo and Kand Rasawala Shaak, Faraal Recipe re...</td>\n",
              "      <td>Aloo and Kand Rasawala Shaak, Faraal Recipe</td>\n",
              "      <td>Tarla Dalal</td>\n",
              "      <td>This recipe is a mouth-watering preparation of...</td>\n",
              "      <td>24</td>\n",
              "      <td>4</td>\n",
              "      <td>1 cup boiled potato cubes\\n1 cup steamed purpl...</td>\n",
              "      <td>Method\\nCombine the curds, rajgira flour, salt...</td>\n",
              "      <td>{\"energy\" : \"157 cal\", \"protein\" : \"2.8 g\", \"c...</td>\n",
              "      <td>['Gujarati Shaak Sabzi', 'Gujarati Faral, Fara...</td>\n",
              "      <td>https://www.tarladalal.com/members/9306/big/bi...</td>\n",
              "      <td>['Gujarati Shaak Sabzi', 'Gujarati Faral, Fara...</td>\n",
              "    </tr>\n",
              "    <tr>\n",
              "      <th>2</th>\n",
              "      <td>3</td>\n",
              "      <td>Aloo Chaat ( Mumbai Roadside Recipes ) recipe ...</td>\n",
              "      <td>Aloo Chaat ( Mumbai Roadside Recipes )</td>\n",
              "      <td>Tarla Dalal</td>\n",
              "      <td>aloo chaat recipe | Mumbai roadside aloo chaat...</td>\n",
              "      <td>14</td>\n",
              "      <td>2</td>\n",
              "      <td>For The Aloo Chaat Marinated Potatoes\\n1 1/4 c...</td>\n",
              "      <td>Method\\nFor the aloo chaat marinated potatoes\\...</td>\n",
              "      <td>{\"energy\" : \"656 cal\", \"protein\" : \"17.8 g\", \"...</td>\n",
              "      <td>['Indian Veg Recipes', 'Mumbai Street Food', '...</td>\n",
              "      <td>https://www.tarladalal.com/members/9306/big/bi...</td>\n",
              "      <td>['Indian Veg Recipes', 'Mumbai Street Food', '...</td>\n",
              "    </tr>\n",
              "    <tr>\n",
              "      <th>3</th>\n",
              "      <td>4</td>\n",
              "      <td>Aloo ki Kadhi Recipe recipe - How to make Aloo...</td>\n",
              "      <td>Aloo ki Kadhi Recipe</td>\n",
              "      <td>vrunda naik</td>\n",
              "      <td>Seeking to satiate your appetite on fasting da...</td>\n",
              "      <td>40</td>\n",
              "      <td>4</td>\n",
              "      <td>For The Pakodas\\n1/2 kg potatoes , boiled , pe...</td>\n",
              "      <td>Method\\nFor the pakodas\\nTo make pakodas for t...</td>\n",
              "      <td>{\"energy\" : \"N/A\", \"protein\" : \"N/A\", \"carbs\" ...</td>\n",
              "      <td>['Gujarati Faral, Faraal', 'Maharashtrian Upva...</td>\n",
              "      <td>https://www.tarladalal.com/images/recipe/addne...</td>\n",
              "      <td>['Gujarati Faral, Faraal', 'Maharashtrian Upva...</td>\n",
              "    </tr>\n",
              "    <tr>\n",
              "      <th>4</th>\n",
              "      <td>5</td>\n",
              "      <td>Alu Bhat recipe - How to make Alu Bhat</td>\n",
              "      <td>Alu Bhat</td>\n",
              "      <td>arathi_receipe</td>\n",
              "      <td>A vegetable dish which is common in most benga...</td>\n",
              "      <td>40</td>\n",
              "      <td>6</td>\n",
              "      <td>To Be Blended Into A Smooth Paste\\n1/2 cup cho...</td>\n",
              "      <td>Method\\nHeat the oil in a kadai and add cloves...</td>\n",
              "      <td>{\"energy\" : \"N/A\", \"protein\" : \"N/A\", \"carbs\" ...</td>\n",
              "      <td>['Gujarati Khichdi', 'Maharashtrian Bhaat (Ric...</td>\n",
              "      <td>https://www.tarladalal.com/images/recipe/addne...</td>\n",
              "      <td>['Gujarati Khichdi', 'Maharashtrian Bhaat (Ric...</td>\n",
              "    </tr>\n",
              "    <tr>\n",
              "      <th>...</th>\n",
              "      <td>...</td>\n",
              "      <td>...</td>\n",
              "      <td>...</td>\n",
              "      <td>...</td>\n",
              "      <td>...</td>\n",
              "      <td>...</td>\n",
              "      <td>...</td>\n",
              "      <td>...</td>\n",
              "      <td>...</td>\n",
              "      <td>...</td>\n",
              "      <td>...</td>\n",
              "      <td>...</td>\n",
              "      <td>...</td>\n",
              "    </tr>\n",
              "    <tr>\n",
              "      <th>431</th>\n",
              "      <td>432</td>\n",
              "      <td>Whole Wheat Roti Chivda recipe - How to make W...</td>\n",
              "      <td>Whole Wheat Roti Chivda</td>\n",
              "      <td>Tarla Dalal</td>\n",
              "      <td>Whole Wheat Roti Chivda is a light and tasty s...</td>\n",
              "      <td>25</td>\n",
              "      <td>3</td>\n",
              "      <td>For The Whole Wheat Rotis\\n1 1/4 cups whole wh...</td>\n",
              "      <td>Method\\nFor the whole wheat rotis\\nCombine the...</td>\n",
              "      <td>{\"energy\" : \"N/A\", \"protein\" : \"N/A\", \"carbs\" ...</td>\n",
              "      <td>['Maharashtrian Snacks Nashta', 'Maharashtrian...</td>\n",
              "      <td>https://www.tarladalal.com/members/9306/big/bi...</td>\n",
              "      <td>['Maharashtrian Snacks Nashta', 'Maharashtrian...</td>\n",
              "    </tr>\n",
              "    <tr>\n",
              "      <th>432</th>\n",
              "      <td>433</td>\n",
              "      <td>Yam Raita, Farali Suran Raita Recipe recipe - ...</td>\n",
              "      <td>Yam Raita, Farali Suran Raita Recipe</td>\n",
              "      <td>Tarla Dalal</td>\n",
              "      <td>yam raita recipe | farali suran raita | senai ...</td>\n",
              "      <td>10</td>\n",
              "      <td>1</td>\n",
              "      <td>For Yam Raita\\n1 cup peeled , boiled and mashe...</td>\n",
              "      <td>Method\\nFor yam raita\\nTo make yam raita, comb...</td>\n",
              "      <td>{\"energy\" : \"N/A\", \"protein\" : \"N/A\", \"carbs\" ...</td>\n",
              "      <td>['Gujarati Kachumber / Chutneys / Achar', 'Guj...</td>\n",
              "      <td>https://www.tarladalal.com/members/9306/big/bi...</td>\n",
              "      <td>['Gujarati Kachumber / Chutneys / Achar', 'Guj...</td>\n",
              "    </tr>\n",
              "    <tr>\n",
              "      <th>433</th>\n",
              "      <td>434</td>\n",
              "      <td>Yummy Pudina Rice recipe - How to make Yummy P...</td>\n",
              "      <td>Yummy Pudina Rice</td>\n",
              "      <td>Jyoti V B</td>\n",
              "      <td>This is a tasty rice, try this with tomato and...</td>\n",
              "      <td>30</td>\n",
              "      <td>4</td>\n",
              "      <td>2 cups long grained rice (basmati)\\nsalt to ta...</td>\n",
              "      <td>Method\\nPressure cook the rice till 2 whistles...</td>\n",
              "      <td>{\"energy\" : \"N/A\", \"protein\" : \"N/A\", \"carbs\" ...</td>\n",
              "      <td>['Maharashtrian Bhaat (Rice)']</td>\n",
              "      <td>https://www.tarladalal.com/members/575789/big/...</td>\n",
              "      <td>['Maharashtrian Bhaat (Rice)', 'Yummy Pudina R...</td>\n",
              "    </tr>\n",
              "    <tr>\n",
              "      <th>434</th>\n",
              "      <td>435</td>\n",
              "      <td>Zunka recipe - How to make Zunka</td>\n",
              "      <td>Zunka</td>\n",
              "      <td>Tarla Dalal</td>\n",
              "      <td>zunka recipe | jhunka | Marathi zunka bhakar |...</td>\n",
              "      <td>29</td>\n",
              "      <td>4</td>\n",
              "      <td>For Zunka\\n1 cup besan (bengal gram flour)\\n2 ...</td>\n",
              "      <td>Method\\nHeat the oil in a deep non-stick kadha...</td>\n",
              "      <td>{\"energy\" : \"N/A\", \"protein\" : \"N/A\", \"carbs\" ...</td>\n",
              "      <td>['Maharashtrian Bhaji', 'Quick Sabzis', 'Tradi...</td>\n",
              "      <td>https://www.tarladalal.com/members/9306/big/bi...</td>\n",
              "      <td>['Maharashtrian Bhaji', 'Quick Sabzis', 'Tradi...</td>\n",
              "    </tr>\n",
              "    <tr>\n",
              "      <th>435</th>\n",
              "      <td>436</td>\n",
              "      <td>Zunka Bhakri - Maharashtrian Dish recipe - How...</td>\n",
              "      <td>Zunka Bhakri - Maharashtrian Dish</td>\n",
              "      <td>vinodsharma</td>\n",
              "      <td>Zunka bhakri - Maharashtrian dish is a traditi...</td>\n",
              "      <td>30</td>\n",
              "      <td>1</td>\n",
              "      <td>For the wet mix (ghol)\\n1 glass water\\n2 onion...</td>\n",
              "      <td>Method\\n\\nMix water, onions, chilli powder, tu...</td>\n",
              "      <td>{\"energy\" : \"N/A\", \"protein\" : \"N/A\", \"carbs\" ...</td>\n",
              "      <td>['Maharashtrian Rotis / Polis', 'Maharashtrian...</td>\n",
              "      <td>https://www.tarladalal.com/images/recipe/addne...</td>\n",
              "      <td>['Maharashtrian Rotis / Polis', 'Maharashtrian...</td>\n",
              "    </tr>\n",
              "  </tbody>\n",
              "</table>\n",
              "<p>436 rows × 13 columns</p>\n",
              "</div>"
            ],
            "text/plain": [
              "     RecipeID                                        recipe_name  \\\n",
              "0           1       Aamabtvaran recipe - How to make Aamabtvaran   \n",
              "1           2  Aloo and Kand Rasawala Shaak, Faraal Recipe re...   \n",
              "2           3  Aloo Chaat ( Mumbai Roadside Recipes ) recipe ...   \n",
              "3           4  Aloo ki Kadhi Recipe recipe - How to make Aloo...   \n",
              "4           5             Alu Bhat recipe - How to make Alu Bhat   \n",
              "..        ...                                                ...   \n",
              "431       432  Whole Wheat Roti Chivda recipe - How to make W...   \n",
              "432       433  Yam Raita, Farali Suran Raita Recipe recipe - ...   \n",
              "433       434  Yummy Pudina Rice recipe - How to make Yummy P...   \n",
              "434       435                   Zunka recipe - How to make Zunka   \n",
              "435       436  Zunka Bhakri - Maharashtrian Dish recipe - How...   \n",
              "\n",
              "                                        recipies              By  \\\n",
              "0                                    Aamabtvaran      madhuri_a1   \n",
              "1    Aloo and Kand Rasawala Shaak, Faraal Recipe     Tarla Dalal   \n",
              "2         Aloo Chaat ( Mumbai Roadside Recipes )     Tarla Dalal   \n",
              "3                           Aloo ki Kadhi Recipe     vrunda naik   \n",
              "4                                       Alu Bhat  arathi_receipe   \n",
              "..                                           ...             ...   \n",
              "431                      Whole Wheat Roti Chivda     Tarla Dalal   \n",
              "432         Yam Raita, Farali Suran Raita Recipe     Tarla Dalal   \n",
              "433                            Yummy Pudina Rice       Jyoti V B   \n",
              "434                                        Zunka     Tarla Dalal   \n",
              "435            Zunka Bhakri - Maharashtrian Dish     vinodsharma   \n",
              "\n",
              "                                           Description  RequiredTime  \\\n",
              "0    Aamabtvaran is a maharashtrian way of cooking ...            40   \n",
              "1    This recipe is a mouth-watering preparation of...            24   \n",
              "2    aloo chaat recipe | Mumbai roadside aloo chaat...            14   \n",
              "3    Seeking to satiate your appetite on fasting da...            40   \n",
              "4    A vegetable dish which is common in most benga...            40   \n",
              "..                                                 ...           ...   \n",
              "431  Whole Wheat Roti Chivda is a light and tasty s...            25   \n",
              "432  yam raita recipe | farali suran raita | senai ...            10   \n",
              "433  This is a tasty rice, try this with tomato and...            30   \n",
              "434  zunka recipe | jhunka | Marathi zunka bhakar |...            29   \n",
              "435  Zunka bhakri - Maharashtrian dish is a traditi...            30   \n",
              "\n",
              "     Servings                                        Ingredients  \\\n",
              "0           4  1 cup toovar (arhar) dal\\n1/2 tsp turmeric pow...   \n",
              "1           4  1 cup boiled potato cubes\\n1 cup steamed purpl...   \n",
              "2           2  For The Aloo Chaat Marinated Potatoes\\n1 1/4 c...   \n",
              "3           4  For The Pakodas\\n1/2 kg potatoes , boiled , pe...   \n",
              "4           6  To Be Blended Into A Smooth Paste\\n1/2 cup cho...   \n",
              "..        ...                                                ...   \n",
              "431         3  For The Whole Wheat Rotis\\n1 1/4 cups whole wh...   \n",
              "432         1  For Yam Raita\\n1 cup peeled , boiled and mashe...   \n",
              "433         4  2 cups long grained rice (basmati)\\nsalt to ta...   \n",
              "434         4  For Zunka\\n1 cup besan (bengal gram flour)\\n2 ...   \n",
              "435         1  For the wet mix (ghol)\\n1 glass water\\n2 onion...   \n",
              "\n",
              "                                            Directions  \\\n",
              "0    Method\\nPressure cook the dal with asafoeitda ...   \n",
              "1    Method\\nCombine the curds, rajgira flour, salt...   \n",
              "2    Method\\nFor the aloo chaat marinated potatoes\\...   \n",
              "3    Method\\nFor the pakodas\\nTo make pakodas for t...   \n",
              "4    Method\\nHeat the oil in a kadai and add cloves...   \n",
              "..                                                 ...   \n",
              "431  Method\\nFor the whole wheat rotis\\nCombine the...   \n",
              "432  Method\\nFor yam raita\\nTo make yam raita, comb...   \n",
              "433  Method\\nPressure cook the rice till 2 whistles...   \n",
              "434  Method\\nHeat the oil in a deep non-stick kadha...   \n",
              "435  Method\\n\\nMix water, onions, chilli powder, tu...   \n",
              "\n",
              "                                            Nutritions  \\\n",
              "0    {\"energy\" : \"N/A\", \"protein\" : \"N/A\", \"carbs\" ...   \n",
              "1    {\"energy\" : \"157 cal\", \"protein\" : \"2.8 g\", \"c...   \n",
              "2    {\"energy\" : \"656 cal\", \"protein\" : \"17.8 g\", \"...   \n",
              "3    {\"energy\" : \"N/A\", \"protein\" : \"N/A\", \"carbs\" ...   \n",
              "4    {\"energy\" : \"N/A\", \"protein\" : \"N/A\", \"carbs\" ...   \n",
              "..                                                 ...   \n",
              "431  {\"energy\" : \"N/A\", \"protein\" : \"N/A\", \"carbs\" ...   \n",
              "432  {\"energy\" : \"N/A\", \"protein\" : \"N/A\", \"carbs\" ...   \n",
              "433  {\"energy\" : \"N/A\", \"protein\" : \"N/A\", \"carbs\" ...   \n",
              "434  {\"energy\" : \"N/A\", \"protein\" : \"N/A\", \"carbs\" ...   \n",
              "435  {\"energy\" : \"N/A\", \"protein\" : \"N/A\", \"carbs\" ...   \n",
              "\n",
              "                                                  Tags  \\\n",
              "0         ['Maharashtrian Dal, Varan / Amti / Kalvan']   \n",
              "1    ['Gujarati Shaak Sabzi', 'Gujarati Faral, Fara...   \n",
              "2    ['Indian Veg Recipes', 'Mumbai Street Food', '...   \n",
              "3    ['Gujarati Faral, Faraal', 'Maharashtrian Upva...   \n",
              "4    ['Gujarati Khichdi', 'Maharashtrian Bhaat (Ric...   \n",
              "..                                                 ...   \n",
              "431  ['Maharashtrian Snacks Nashta', 'Maharashtrian...   \n",
              "432  ['Gujarati Kachumber / Chutneys / Achar', 'Guj...   \n",
              "433                     ['Maharashtrian Bhaat (Rice)']   \n",
              "434  ['Maharashtrian Bhaji', 'Quick Sabzis', 'Tradi...   \n",
              "435  ['Maharashtrian Rotis / Polis', 'Maharashtrian...   \n",
              "\n",
              "                                             ImageLink  \\\n",
              "0    https://www.tarladalal.com/images/recipe/addne...   \n",
              "1    https://www.tarladalal.com/members/9306/big/bi...   \n",
              "2    https://www.tarladalal.com/members/9306/big/bi...   \n",
              "3    https://www.tarladalal.com/images/recipe/addne...   \n",
              "4    https://www.tarladalal.com/images/recipe/addne...   \n",
              "..                                                 ...   \n",
              "431  https://www.tarladalal.com/members/9306/big/bi...   \n",
              "432  https://www.tarladalal.com/members/9306/big/bi...   \n",
              "433  https://www.tarladalal.com/members/575789/big/...   \n",
              "434  https://www.tarladalal.com/members/9306/big/bi...   \n",
              "435  https://www.tarladalal.com/images/recipe/addne...   \n",
              "\n",
              "                                             ExtraTags  \n",
              "0    ['Maharashtrian Dal, Varan / Amti / Kalvan', '...  \n",
              "1    ['Gujarati Shaak Sabzi', 'Gujarati Faral, Fara...  \n",
              "2    ['Indian Veg Recipes', 'Mumbai Street Food', '...  \n",
              "3    ['Gujarati Faral, Faraal', 'Maharashtrian Upva...  \n",
              "4    ['Gujarati Khichdi', 'Maharashtrian Bhaat (Ric...  \n",
              "..                                                 ...  \n",
              "431  ['Maharashtrian Snacks Nashta', 'Maharashtrian...  \n",
              "432  ['Gujarati Kachumber / Chutneys / Achar', 'Guj...  \n",
              "433  ['Maharashtrian Bhaat (Rice)', 'Yummy Pudina R...  \n",
              "434  ['Maharashtrian Bhaji', 'Quick Sabzis', 'Tradi...  \n",
              "435  ['Maharashtrian Rotis / Polis', 'Maharashtrian...  \n",
              "\n",
              "[436 rows x 13 columns]"
            ]
          },
          "execution_count": 103,
          "metadata": {},
          "output_type": "execute_result"
        }
      ],
      "source": [
        "raw_recipes.dropna()"
      ]
    },
    {
      "cell_type": "code",
      "execution_count": 104,
      "metadata": {
        "colab": {
          "base_uri": "https://localhost:8080/"
        },
        "id": "odCZbQW0Z2k6",
        "outputId": "36cbde2d-bb50-4e0f-ea68-e6afda7794f3"
      },
      "outputs": [
        {
          "data": {
            "text/plain": [
              "0"
            ]
          },
          "execution_count": 104,
          "metadata": {},
          "output_type": "execute_result"
        }
      ],
      "source": [
        "raw_recipes.duplicated().sum()"
      ]
    },
    {
      "cell_type": "code",
      "execution_count": 105,
      "metadata": {
        "colab": {
          "base_uri": "https://localhost:8080/"
        },
        "id": "bt8S70P5Z2tY",
        "outputId": "ac8c1364-5f18-4a47-d1cd-dc14e9c7b2e3"
      },
      "outputs": [
        {
          "data": {
            "text/plain": [
              "Index(['RecipeID', 'recipe_name', 'recipies', 'By', 'Description',\n",
              "       'RequiredTime', 'Servings', 'Ingredients', 'Directions', 'Nutritions',\n",
              "       'Tags', 'ImageLink', 'ExtraTags'],\n",
              "      dtype='object')"
            ]
          },
          "execution_count": 105,
          "metadata": {},
          "output_type": "execute_result"
        }
      ],
      "source": [
        "raw_recipes.columns"
      ]
    },
    {
      "cell_type": "markdown",
      "metadata": {
        "id": "jHsKo7cDP1bk"
      },
      "source": [
        "#Recomandation systemm\n"
      ]
    },
    {
      "cell_type": "code",
      "execution_count": 106,
      "metadata": {
        "id": "ogFbjEQxP0Fz"
      },
      "outputs": [],
      "source": [
        "new_recipes = raw_recipes[['RecipeID','recipies','RequiredTime','Ingredients','Description']]"
      ]
    },
    {
      "cell_type": "code",
      "execution_count": 107,
      "metadata": {
        "colab": {
          "base_uri": "https://localhost:8080/"
        },
        "id": "3_YJBlN9lmqg",
        "outputId": "5ac82234-014a-42a1-88cf-8d2250f812b6"
      },
      "outputs": [
        {
          "data": {
            "text/plain": [
              "(436, 5)"
            ]
          },
          "execution_count": 107,
          "metadata": {},
          "output_type": "execute_result"
        }
      ],
      "source": [
        "new_recipes.shape"
      ]
    },
    {
      "cell_type": "code",
      "execution_count": 108,
      "metadata": {
        "id": "inOQxqd9mEuQ"
      },
      "outputs": [],
      "source": [
        "\n",
        "new_recipes.to_csv('new_recipes.csv',index = False)"
      ]
    },
    {
      "cell_type": "code",
      "execution_count": 109,
      "metadata": {
        "colab": {
          "base_uri": "https://localhost:8080/"
        },
        "id": "nIJa4WeolqmY",
        "outputId": "733d5816-480e-4b0e-e188-35ad8031bd2e"
      },
      "outputs": [
        {
          "data": {
            "text/plain": [
              "Index(['RecipeID', 'recipies', 'RequiredTime', 'Ingredients', 'Description'], dtype='object')"
            ]
          },
          "execution_count": 109,
          "metadata": {},
          "output_type": "execute_result"
        }
      ],
      "source": [
        "new_recipes.columns"
      ]
    },
    {
      "cell_type": "code",
      "execution_count": 110,
      "metadata": {
        "colab": {
          "base_uri": "https://localhost:8080/"
        },
        "id": "Wb73uR_cZmpf",
        "outputId": "d0ea60ec-82f4-42d3-bc00-2ef892817cd2"
      },
      "outputs": [
        {
          "name": "stderr",
          "output_type": "stream",
          "text": [
            "C:\\Users\\nidhi\\AppData\\Local\\Temp\\ipykernel_16452\\2030411897.py:1: SettingWithCopyWarning: \n",
            "A value is trying to be set on a copy of a slice from a DataFrame\n",
            "\n",
            "See the caveats in the documentation: https://pandas.pydata.org/pandas-docs/stable/user_guide/indexing.html#returning-a-view-versus-a-copy\n",
            "  new_recipes.rename(columns={'recipies': 'title'}, inplace=True)\n"
          ]
        }
      ],
      "source": [
        "new_recipes.rename(columns={'recipies': 'title'}, inplace=True)"
      ]
    },
    {
      "cell_type": "code",
      "execution_count": 111,
      "metadata": {
        "colab": {
          "base_uri": "https://localhost:8080/",
          "height": 112
        },
        "id": "FvrzfYJTmUaV",
        "outputId": "4c48ebb5-66a0-4239-aa62-d4989c84211c"
      },
      "outputs": [
        {
          "data": {
            "text/html": [
              "<div>\n",
              "<style scoped>\n",
              "    .dataframe tbody tr th:only-of-type {\n",
              "        vertical-align: middle;\n",
              "    }\n",
              "\n",
              "    .dataframe tbody tr th {\n",
              "        vertical-align: top;\n",
              "    }\n",
              "\n",
              "    .dataframe thead th {\n",
              "        text-align: right;\n",
              "    }\n",
              "</style>\n",
              "<table border=\"1\" class=\"dataframe\">\n",
              "  <thead>\n",
              "    <tr style=\"text-align: right;\">\n",
              "      <th></th>\n",
              "      <th>RecipeID</th>\n",
              "      <th>title</th>\n",
              "      <th>RequiredTime</th>\n",
              "      <th>Ingredients</th>\n",
              "      <th>Description</th>\n",
              "    </tr>\n",
              "  </thead>\n",
              "  <tbody>\n",
              "    <tr>\n",
              "      <th>0</th>\n",
              "      <td>1</td>\n",
              "      <td>Aamabtvaran</td>\n",
              "      <td>40</td>\n",
              "      <td>1 cup toovar (arhar) dal\\n1/2 tsp turmeric pow...</td>\n",
              "      <td>Aamabtvaran is a maharashtrian way of cooking ...</td>\n",
              "    </tr>\n",
              "    <tr>\n",
              "      <th>1</th>\n",
              "      <td>2</td>\n",
              "      <td>Aloo and Kand Rasawala Shaak, Faraal Recipe</td>\n",
              "      <td>24</td>\n",
              "      <td>1 cup boiled potato cubes\\n1 cup steamed purpl...</td>\n",
              "      <td>This recipe is a mouth-watering preparation of...</td>\n",
              "    </tr>\n",
              "  </tbody>\n",
              "</table>\n",
              "</div>"
            ],
            "text/plain": [
              "   RecipeID                                        title  RequiredTime  \\\n",
              "0         1                                  Aamabtvaran            40   \n",
              "1         2  Aloo and Kand Rasawala Shaak, Faraal Recipe            24   \n",
              "\n",
              "                                         Ingredients  \\\n",
              "0  1 cup toovar (arhar) dal\\n1/2 tsp turmeric pow...   \n",
              "1  1 cup boiled potato cubes\\n1 cup steamed purpl...   \n",
              "\n",
              "                                         Description  \n",
              "0  Aamabtvaran is a maharashtrian way of cooking ...  \n",
              "1  This recipe is a mouth-watering preparation of...  "
            ]
          },
          "execution_count": 111,
          "metadata": {},
          "output_type": "execute_result"
        }
      ],
      "source": [
        "new_recipes.head(2)"
      ]
    },
    {
      "cell_type": "code",
      "execution_count": 112,
      "metadata": {
        "id": "zuP7HlWPP0Cm"
      },
      "outputs": [],
      "source": [
        "from sklearn.feature_extraction.text import CountVectorizer\n",
        "cv  = CountVectorizer(max_features=436 , stop_words = 'english')"
      ]
    },
    {
      "cell_type": "code",
      "execution_count": 113,
      "metadata": {
        "colab": {
          "base_uri": "https://localhost:8080/",
          "height": 74
        },
        "id": "1j8P32npPz_r",
        "outputId": "893df0bb-5c5e-4434-8983-a2940ad77a8a"
      },
      "outputs": [
        {
          "data": {
            "text/html": [
              "<style>#sk-container-id-4 {color: black;background-color: white;}#sk-container-id-4 pre{padding: 0;}#sk-container-id-4 div.sk-toggleable {background-color: white;}#sk-container-id-4 label.sk-toggleable__label {cursor: pointer;display: block;width: 100%;margin-bottom: 0;padding: 0.3em;box-sizing: border-box;text-align: center;}#sk-container-id-4 label.sk-toggleable__label-arrow:before {content: \"▸\";float: left;margin-right: 0.25em;color: #696969;}#sk-container-id-4 label.sk-toggleable__label-arrow:hover:before {color: black;}#sk-container-id-4 div.sk-estimator:hover label.sk-toggleable__label-arrow:before {color: black;}#sk-container-id-4 div.sk-toggleable__content {max-height: 0;max-width: 0;overflow: hidden;text-align: left;background-color: #f0f8ff;}#sk-container-id-4 div.sk-toggleable__content pre {margin: 0.2em;color: black;border-radius: 0.25em;background-color: #f0f8ff;}#sk-container-id-4 input.sk-toggleable__control:checked~div.sk-toggleable__content {max-height: 200px;max-width: 100%;overflow: auto;}#sk-container-id-4 input.sk-toggleable__control:checked~label.sk-toggleable__label-arrow:before {content: \"▾\";}#sk-container-id-4 div.sk-estimator input.sk-toggleable__control:checked~label.sk-toggleable__label {background-color: #d4ebff;}#sk-container-id-4 div.sk-label input.sk-toggleable__control:checked~label.sk-toggleable__label {background-color: #d4ebff;}#sk-container-id-4 input.sk-hidden--visually {border: 0;clip: rect(1px 1px 1px 1px);clip: rect(1px, 1px, 1px, 1px);height: 1px;margin: -1px;overflow: hidden;padding: 0;position: absolute;width: 1px;}#sk-container-id-4 div.sk-estimator {font-family: monospace;background-color: #f0f8ff;border: 1px dotted black;border-radius: 0.25em;box-sizing: border-box;margin-bottom: 0.5em;}#sk-container-id-4 div.sk-estimator:hover {background-color: #d4ebff;}#sk-container-id-4 div.sk-parallel-item::after {content: \"\";width: 100%;border-bottom: 1px solid gray;flex-grow: 1;}#sk-container-id-4 div.sk-label:hover label.sk-toggleable__label {background-color: #d4ebff;}#sk-container-id-4 div.sk-serial::before {content: \"\";position: absolute;border-left: 1px solid gray;box-sizing: border-box;top: 0;bottom: 0;left: 50%;z-index: 0;}#sk-container-id-4 div.sk-serial {display: flex;flex-direction: column;align-items: center;background-color: white;padding-right: 0.2em;padding-left: 0.2em;position: relative;}#sk-container-id-4 div.sk-item {position: relative;z-index: 1;}#sk-container-id-4 div.sk-parallel {display: flex;align-items: stretch;justify-content: center;background-color: white;position: relative;}#sk-container-id-4 div.sk-item::before, #sk-container-id-4 div.sk-parallel-item::before {content: \"\";position: absolute;border-left: 1px solid gray;box-sizing: border-box;top: 0;bottom: 0;left: 50%;z-index: -1;}#sk-container-id-4 div.sk-parallel-item {display: flex;flex-direction: column;z-index: 1;position: relative;background-color: white;}#sk-container-id-4 div.sk-parallel-item:first-child::after {align-self: flex-end;width: 50%;}#sk-container-id-4 div.sk-parallel-item:last-child::after {align-self: flex-start;width: 50%;}#sk-container-id-4 div.sk-parallel-item:only-child::after {width: 0;}#sk-container-id-4 div.sk-dashed-wrapped {border: 1px dashed gray;margin: 0 0.4em 0.5em 0.4em;box-sizing: border-box;padding-bottom: 0.4em;background-color: white;}#sk-container-id-4 div.sk-label label {font-family: monospace;font-weight: bold;display: inline-block;line-height: 1.2em;}#sk-container-id-4 div.sk-label-container {text-align: center;}#sk-container-id-4 div.sk-container {/* jupyter's `normalize.less` sets `[hidden] { display: none; }` but bootstrap.min.css set `[hidden] { display: none !important; }` so we also need the `!important` here to be able to override the default hidden behavior on the sphinx rendered scikit-learn.org. See: https://github.com/scikit-learn/scikit-learn/issues/21755 */display: inline-block !important;position: relative;}#sk-container-id-4 div.sk-text-repr-fallback {display: none;}</style><div id=\"sk-container-id-4\" class=\"sk-top-container\"><div class=\"sk-text-repr-fallback\"><pre>CountVectorizer(max_features=436, stop_words=&#x27;english&#x27;)</pre><b>In a Jupyter environment, please rerun this cell to show the HTML representation or trust the notebook. <br />On GitHub, the HTML representation is unable to render, please try loading this page with nbviewer.org.</b></div><div class=\"sk-container\" hidden><div class=\"sk-item\"><div class=\"sk-estimator sk-toggleable\"><input class=\"sk-toggleable__control sk-hidden--visually\" id=\"sk-estimator-id-4\" type=\"checkbox\" checked><label for=\"sk-estimator-id-4\" class=\"sk-toggleable__label sk-toggleable__label-arrow\">CountVectorizer</label><div class=\"sk-toggleable__content\"><pre>CountVectorizer(max_features=436, stop_words=&#x27;english&#x27;)</pre></div></div></div></div></div>"
            ],
            "text/plain": [
              "CountVectorizer(max_features=436, stop_words='english')"
            ]
          },
          "execution_count": 113,
          "metadata": {},
          "output_type": "execute_result"
        }
      ],
      "source": [
        "cv"
      ]
    },
    {
      "cell_type": "code",
      "execution_count": 114,
      "metadata": {
        "id": "JkJfC_lmZ50H"
      },
      "outputs": [],
      "source": [
        "vector = cv.fit_transform(new_recipes['title'].values.astype('U')).toarray()"
      ]
    },
    {
      "cell_type": "code",
      "execution_count": 115,
      "metadata": {
        "id": "XpY0a5syPz9F"
      },
      "outputs": [],
      "source": [
        "#vector = cv.fit_transform(new_recipes['recipies'].values.astype('U')).toarray()"
      ]
    },
    {
      "cell_type": "code",
      "execution_count": 116,
      "metadata": {
        "colab": {
          "base_uri": "https://localhost:8080/"
        },
        "id": "zG1wvCoOPz6b",
        "outputId": "4a921fd0-c3ef-44f8-cb34-6374076176f6"
      },
      "outputs": [
        {
          "data": {
            "text/plain": [
              "(436, 436)"
            ]
          },
          "execution_count": 116,
          "metadata": {},
          "output_type": "execute_result"
        }
      ],
      "source": [
        "vector.shape"
      ]
    },
    {
      "cell_type": "code",
      "execution_count": 117,
      "metadata": {
        "id": "-qSTmVEKPz3r"
      },
      "outputs": [],
      "source": [
        "from sklearn.metrics.pairwise import cosine_similarity"
      ]
    },
    {
      "cell_type": "code",
      "execution_count": 118,
      "metadata": {
        "id": "G0uI0gmwPz00"
      },
      "outputs": [],
      "source": [
        "similarity = cosine_similarity(vector)"
      ]
    },
    {
      "cell_type": "code",
      "execution_count": 119,
      "metadata": {
        "colab": {
          "base_uri": "https://localhost:8080/"
        },
        "id": "2-W9ksY7cH3I",
        "outputId": "c4ed09e9-78fb-45d4-f789-d07859ed5729"
      },
      "outputs": [
        {
          "data": {
            "text/plain": [
              "array([[1.        , 0.        , 0.        , ..., 0.        , 0.        ,\n",
              "        0.        ],\n",
              "       [0.        , 1.        , 0.18257419, ..., 0.        , 0.        ,\n",
              "        0.        ],\n",
              "       [0.        , 0.18257419, 1.        , ..., 0.        , 0.        ,\n",
              "        0.        ],\n",
              "       ...,\n",
              "       [0.        , 0.        , 0.        , ..., 1.        , 0.        ,\n",
              "        0.        ],\n",
              "       [0.        , 0.        , 0.        , ..., 0.        , 1.        ,\n",
              "        0.5       ],\n",
              "       [0.        , 0.        , 0.        , ..., 0.        , 0.5       ,\n",
              "        1.        ]])"
            ]
          },
          "execution_count": 119,
          "metadata": {},
          "output_type": "execute_result"
        }
      ],
      "source": [
        "similarity"
      ]
    },
    {
      "cell_type": "code",
      "execution_count": 120,
      "metadata": {
        "colab": {
          "base_uri": "https://localhost:8080/"
        },
        "id": "EjxZo7-7cHzs",
        "outputId": "c5fb31ab-c391-4608-96a6-255c9b4edd46"
      },
      "outputs": [
        {
          "data": {
            "text/plain": [
              "434"
            ]
          },
          "execution_count": 120,
          "metadata": {},
          "output_type": "execute_result"
        }
      ],
      "source": [
        "new_recipes [new_recipes['title'] == \"Zunka\"].index[0]"
      ]
    },
    {
      "cell_type": "code",
      "execution_count": 121,
      "metadata": {
        "colab": {
          "base_uri": "https://localhost:8080/"
        },
        "id": "Tok2VtWAcNh1",
        "outputId": "33a60eea-e389-43af-8163-ce1e5c626170"
      },
      "outputs": [
        {
          "name": "stdout",
          "output_type": "stream",
          "text": [
            "Recipe Name: Zunka\n",
            "RequiredTime: 29\n",
            "Ingredients: For Zunka\n",
            "1 cup besan (bengal gram flour)\n",
            "2 tbsp oil\n",
            "1/2 tsp mustard seeds ( rai / sarson)\n",
            "1/2 tsp cumin seeds (jeera)\n",
            "1/4 tsp asafoetida (hing)\n",
            "1 tsp chopped ginger (adrak)\n",
            "2 tbsp chopped green chillies\n",
            "2 tbsp chopped garlic (lehsun)\n",
            "1 cup chopped onions\n",
            "1/4 tsp turmeric powder (haldi)\n",
            "salt to taste\n",
            "1/2 cup chopped coriander (dhania)\n",
            "\n",
            "For The Tempering\n",
            "1 tbsp oil\n",
            "1/2 tsp mustard seeds ( rai / sarson)\n",
            "1/4 tsp asafoetida (hing)\n",
            "8 to 10 curry leaves (kadi patta)\n",
            "2 tsp chopped garlic (lehsun)\n",
            "2 dry red chillies (pandi)\n",
            "\n",
            "For Serving\n",
            "rice (chawal) bhakri\n",
            "Description: zunka recipe | jhunka | Marathi zunka bhakar | Maharashtrian zunka |\n",
            "\n",
            "zunka is an authentic Maharashtrian delicacy which is slightly spicy but very satisfying in texture, flavour and aroma. Learn how to make Marathi zunka bhakar.\n",
            "\n",
            "Traditional Maharashtrian and spicy, the Maharashtrian zunka is considered by many as a dry version of the famous pitla. It is like a curry of ginger, green chillies, garlic, onions and coriander perked up with a very flavourful tempering.\n",
            "\n",
            "To make zunka, heat the oil in a deep non-stick kadhai and add the mustard seeds. When the seeds crackle, add the cumin seeds and asafoetida and saut� on a medium flame for a few seconds. Add the ginger, green chillies, garlic and onions and saut� on a medium flame for 5 minutes. Add the turmeric powder, besan and salt, mix well and cook on a slow flame for 1 to 2 minutes, while stirring occasionally. Add 1� cups of hot water and mix well. Cover with a lid and cook on a slow flame for 3 to 4 minutes, while stirring occasionally. Add the coriander, mix well and keep aside. For the tempering, heat the oil in a small non-stick pan, add the mustard seeds, asafoetida and garlic and saut� on a medium flame for 1 minute. Add the curry leaves and red chillies and saut� on a medium flame for a few seconds. Add the tempering to the zunka and mix well. Serve immediately with chawal bhakri.\n",
            "\n",
            "Although a variety of spices are used, the curry leaves in the tempering lends a classic, aromatic touch to this jhunka. Serve it right off the stove with bhakri, thecha and buttermilk, as it will get dry if left for long.\n",
            "\n",
            "Though some good quantity of oil has been used in the Marathi zunka bhakar, you can benefit from the protein in besan and also gain in some antioxidant allicin from onion and garlic.\n",
            "\n",
            "Tips for zunka. 1. Ensure the besan has no moisture and is free of lumps, else the zunka might also turn lumpy. 2. After adding hot water at step 5, stir it instantly to get a uniform mixture. 3. The unique cooking method of tempering it twice is crucial to get an authentic taste.\n",
            "\n",
            "Enjoy zunka recipe | jhunka | Marathi zunka bhakar | Maharashtrian zunka | with photos and video below.\n",
            "-------------------------------------------------------------------------------------------------------------------\n",
            "Recipe Name: Zunka Bhakri - Maharashtrian Dish\n",
            "RequiredTime: 30\n",
            "Ingredients: For the wet mix (ghol)\n",
            "1 glass water\n",
            "2 onions, chopped\n",
            "1 tsp chilli powder\n",
            "1/2 tsp turmeric powder (haldi)\n",
            "2 to 3 curry leaves (kadi patta)\n",
            "1 tsp coriander (dhania) leaves\n",
            "1 cup besan (Bengal gram flour)\n",
            "For the onion mix\n",
            "4 tsp oil\n",
            "1 tsp mustard seeds ( rai / sarson)\n",
            "1/2 tsp cumin seeds (jeera)\n",
            "1/2 tsp garlic (lehsun) paste\n",
            "1/2 tsp ginger (adrak) paste\n",
            "2 onions, chopped\n",
            "1/2 tsp chopped green chillies\n",
            "1 tsp salt\n",
            "Description: Zunka bhakri - Maharashtrian dish is a traditional chickpea or besan based wet mix which is then tempered with mustard seeds, garlic paste and curry leaves. This zunka is then stirred with fried onion mix and enjoyed hot with jowar or bajra bhakris or rotis.\n",
            "-------------------------------------------------------------------------------------------------------------------\n"
          ]
        }
      ],
      "source": [
        "distance = sorted(list(enumerate(similarity[434])) , reverse = True , key = lambda vector:vector[1])\n",
        "for i in distance[0:2]:\n",
        "    print(f\"Recipe Name: {new_recipes.iloc[i[0]].title}\")\n",
        "    print(f\"RequiredTime: {new_recipes.iloc[i[0]].RequiredTime}\")\n",
        "    print(f\"Ingredients: {new_recipes.iloc[i[0]].Ingredients}\")\n",
        "    print(f\"Description: {new_recipes.iloc[i[0]].Description}\")\n",
        "    print(\"-------------------------------------------------------------------------------------------------------------------\")\n"
      ]
    },
    {
      "cell_type": "code",
      "execution_count": 122,
      "metadata": {
        "colab": {
          "base_uri": "https://localhost:8080/"
        },
        "id": "P0nueuOTxx0y",
        "outputId": "77de0f26-cb50-45de-8c80-6520fac7d1c8"
      },
      "outputs": [
        {
          "data": {
            "text/plain": [
              "Index(['RecipeID', 'title', 'RequiredTime', 'Ingredients', 'Description'], dtype='object')"
            ]
          },
          "execution_count": 122,
          "metadata": {},
          "output_type": "execute_result"
        }
      ],
      "source": [
        "new_recipes.columns"
      ]
    },
    {
      "cell_type": "code",
      "execution_count": 123,
      "metadata": {
        "id": "uAEJXDKocNbp"
      },
      "outputs": [],
      "source": [
        "def recommand(raw_recipes):\n",
        "  index = new_recipes [new_recipes['title'] == raw_recipes].index[0]\n",
        "  distance = sorted(list(enumerate(similarity[index])) , reverse = True , key = lambda vector:vector[1])\n",
        "  for i in distance[0:5]:\n",
        "    print(f\"Recipe Name: {new_recipes.iloc[i[0]].title}\")\n",
        "    print(f\"RequiredTime: {new_recipes.iloc[i[0]].RequiredTime}\")\n",
        "    print(f\"Ingredients: {new_recipes.iloc[i[0]].Ingredients}\")\n",
        "    print(f\"Description: {new_recipes.iloc[i[0]].Description}\")\n",
        "    print(\"-------------------------------------------------------------------------------------------------------------------\")"
      ]
    },
    {
      "cell_type": "code",
      "execution_count": 124,
      "metadata": {
        "colab": {
          "base_uri": "https://localhost:8080/"
        },
        "id": "uH3IFvCucNX9",
        "outputId": "f52eb533-3d70-4f9e-d192-019bd5d11fae"
      },
      "outputs": [
        {
          "name": "stdout",
          "output_type": "stream",
          "text": [
            "Recipe Name: Baitha Varan\n",
            "RequiredTime: 30\n",
            "Ingredients: 3/4 cup toovar (arhar) dal\n",
            "1/4 tsp turmeric powder (haldi)\n",
            "salt to taste\n",
            "1/4 tsp asafoetida (hing)\n",
            "1/2 tsp roasted cumin seeds (jeera) powder\n",
            "1 1/2 cups boiled mixed vegetables (carrot , cauliflower , potatoes , onions etc.)\n",
            "1/2 cup green paste\n",
            "2 tsp sugar\n",
            "2 tsp lemon juice\n",
            "1/4 cup finely chopped coriander (dhania) for the garnish\n",
            "Description: The green paste gives this otherwise simple dish a complete makeover! It increases the vitamin A content, while the vegetables add fibre. Vitamin A increases immunity and also nourishes our skin and improves vision. Despite the interesting flavour and health benefits, this dish is surprisingly easy to make!\n",
            "-------------------------------------------------------------------------------------------------------------------\n",
            "Recipe Name: Methiche Varan\n",
            "RequiredTime: 35\n",
            "Ingredients: 1 cup finely chopped fenugreek (methi) leaves\n",
            "1 cup toovar (arhar) dal , washed and drained\n",
            "1/4 tsp turmeric powder (haldi)\n",
            "salt to taste\n",
            "1 tbsp ghee\n",
            "1 tsp cumin seeds (jeera)\n",
            "1/4 tsp asafoetida (hing)\n",
            "4 curry leaves (kadi patta)\n",
            "1 1/2 tsp grated jaggery (gur)\n",
            "1/2 tsp chilli powder\n",
            "1/2 tsp green chilli paste\n",
            "1/2 tsp garlic (lehsun) paste\n",
            "1 1/2 tsp lemon juice\n",
            "Description: Varan refers to traditional Maharashtrian lentil-based dishes. Here, cooked toovar dal is perked up with fenugreek leaves and tasty spice powders and pastes. An aromatic tempering adds to the traditional charm of the Methiche Varan, making sure that its aroma and flavour remind you of mom�s cooking!\n",
            "\n",
            "\n",
            "Indeed, this is a homely and satiating treat that you will thoroughly enjoy, when had with a bowl of hot rice or a few phulkas , you can also add on subzis like Batata Ani Flower Cha Rassa or Bharleli Vaangi and Onion Tomato Koshimbir to round up your meal.\n",
            "-------------------------------------------------------------------------------------------------------------------\n",
            "Recipe Name: Varan Bhaat, Maharashtrian Varan Bhaat\n",
            "RequiredTime: 25\n",
            "Ingredients: For Varan Bhaat\n",
            "1 cup toovar (arhar) dal , washed and drained\n",
            "4 cups cooked rice (chawal)\n",
            "1/4 cup finely chopped tomatoes\n",
            "1/2 tsp cumin seeds (jeera)\n",
            "1/2 cup finely chopped onions\n",
            "1 tsp oil\n",
            "1 tsp roughly chopped green chillies\n",
            "salt to taste\n",
            "1/2 tsp turmeric powder (haldi)\n",
            "1 tbsp finely chopped coriander (dhania)\n",
            "4 tsp ghee\n",
            "\n",
            "For The Garnish\n",
            "2 tbsp finely chopped coriander (dhania)\n",
            "Description: varan bhaat recipe | Maharashtrian varan bhaat | toovar dal varan | with images.\n",
            "\n",
            "how to make varan bhaat is an everyday fare in Maharashtrian homes. Learn how to make varan bhaat.\n",
            "\n",
            "Varan Bhaat is a famous Maharashtrian dish of steaming hot rice topped with ghee and lentil curry. The toovar dal is prepared in a simple and homely manner that will appeal to everybody.\n",
            "\n",
            "Onions, tomatoes, green chillies and spices add to the flavour to the toovar dal varan making it a perfect accompaniment to cooked rice. Serve this satiating Maharashtrian varan bhaat hot and fresh, without forgetting the dollop of ghee!\n",
            "\n",
            "To make varan bhaat, wash the toovar dal and drain it. Combine the toovar dal, tomatoes, cumin seeds, onions, oil, green chillies, salt and 2� cups of water in a pressure cooker, mix well and pressure cook for 3 whistles. Add the turmeric powder and coriander and mix well using a whisk.Pour this varan over cooked rice and serve hot.\n",
            "\n",
            "Tips for varan bhaat. 1. Do not whisk the dal till smooth. This dal is slightly coarse when served. 2. For a true authentic experience, serve varan bhaat topped with ghee means �toop� in Marathi.\n",
            "\n",
            "Dodkyacha Bhaat, Tendli Bhaat, Hariyali Matki Khichdi and Masala Bhaat are some more Maharashtrian rice delicacies that you will surely enjoy.\n",
            "\n",
            "Enjoy varan bhaat recipe | Maharashtrian varan bhaat | toovar dal varan | how to make varan bhaat | with step by step images and video below.\n",
            "-------------------------------------------------------------------------------------------------------------------\n",
            "Recipe Name: Methiche Varan ( Weight Loss After Pregnancy )\n",
            "RequiredTime: 30\n",
            "Ingredients: 1 cup finely chopped fenugreek (methi) leaves\n",
            "1 cup toovar (arhar) dal , washed and drained\n",
            "1/4 tsp turmeric powder (haldi)\n",
            "salt to taste\n",
            "1 tsp ghee\n",
            "1 tsp cumin seeds (jeera)\n",
            "1/4 tsp asafoetida (hing)\n",
            "4 curry leaves (kadi patta)\n",
            "1 1/2 tsp grated jaggery (gur)\n",
            "1/2 tsp chilli powder\n",
            "1/2 tsp green chilli paste\n",
            "1/2 tsp garlic (lehsun) paste\n",
            "1 1/2 tsp lemon juice\n",
            "Description: It is right to be concerned about shedding your pregnancy weight after delivery, but you surely do not have to worry about losing variety or flavour in the foods you have! Methiche Varan is a perfect example. An authentic Maharashtrian dal reverberating with all the flavours that the desi palate yearns for, this low-cal dish is loaded with methi leaves, rich in fibre, folic acid, vitamin A and iron. Replacing sugar with jaggery not only enhances the taste but also reinforces the iron content. This fibre-loaded dish will appease your craving and hunger, while also helping you regain your waist-line.\n",
            "-------------------------------------------------------------------------------------------------------------------\n",
            "Recipe Name: Aamabtvaran\n",
            "RequiredTime: 40\n",
            "Ingredients: 1 cup toovar (arhar) dal\n",
            "1/2 tsp turmeric powder (haldi)\n",
            "2 tsp chilli powder\n",
            "1 pinch of asafoetida (hing)\n",
            "2 tbsp chopped jaggery (gur)\n",
            "4 bayleaf (tejpatta)\n",
            "2 tsp coriander (dhania) seeds powder\n",
            "1 tsp mustard seeds ( rai / sarson)\n",
            "2 tsp crushed garlic (lehsun)\n",
            "salt to taste\n",
            "oil for cooking\n",
            "Description: Aamabtvaran is a maharashtrian way of cooking varan or lentils. The tuar dal is cooked, mashed and then simmered in tamarind water. Serve the sour and spicy ambatvaran tempered with mustard seeds, curry leaves and green chillies.\n",
            "-------------------------------------------------------------------------------------------------------------------\n"
          ]
        }
      ],
      "source": [
        "recommand(input(\"Enter the rcipe name: \") )\n",
        "\n",
        "#Baitha Varan\n",
        "#Zunka\n",
        "#Alu Bhat\n",
        "# Amrit Modak\n",
        "#Batata Tomato Rassa Bhaji\n",
        "#Bhakarwadi(4)"
      ]
    },
    {
      "cell_type": "code",
      "execution_count": 125,
      "metadata": {
        "colab": {
          "base_uri": "https://localhost:8080/",
          "height": 423
        },
        "id": "qFidpZZEcNVl",
        "outputId": "de17276c-1c16-4d45-8d42-d62eaf0b561f"
      },
      "outputs": [
        {
          "data": {
            "text/html": [
              "<div>\n",
              "<style scoped>\n",
              "    .dataframe tbody tr th:only-of-type {\n",
              "        vertical-align: middle;\n",
              "    }\n",
              "\n",
              "    .dataframe tbody tr th {\n",
              "        vertical-align: top;\n",
              "    }\n",
              "\n",
              "    .dataframe thead th {\n",
              "        text-align: right;\n",
              "    }\n",
              "</style>\n",
              "<table border=\"1\" class=\"dataframe\">\n",
              "  <thead>\n",
              "    <tr style=\"text-align: right;\">\n",
              "      <th></th>\n",
              "      <th>RecipeID</th>\n",
              "      <th>title</th>\n",
              "      <th>RequiredTime</th>\n",
              "      <th>Ingredients</th>\n",
              "      <th>Description</th>\n",
              "    </tr>\n",
              "  </thead>\n",
              "  <tbody>\n",
              "    <tr>\n",
              "      <th>0</th>\n",
              "      <td>1</td>\n",
              "      <td>Aamabtvaran</td>\n",
              "      <td>40</td>\n",
              "      <td>1 cup toovar (arhar) dal\\n1/2 tsp turmeric pow...</td>\n",
              "      <td>Aamabtvaran is a maharashtrian way of cooking ...</td>\n",
              "    </tr>\n",
              "    <tr>\n",
              "      <th>1</th>\n",
              "      <td>2</td>\n",
              "      <td>Aloo and Kand Rasawala Shaak, Faraal Recipe</td>\n",
              "      <td>24</td>\n",
              "      <td>1 cup boiled potato cubes\\n1 cup steamed purpl...</td>\n",
              "      <td>This recipe is a mouth-watering preparation of...</td>\n",
              "    </tr>\n",
              "    <tr>\n",
              "      <th>2</th>\n",
              "      <td>3</td>\n",
              "      <td>Aloo Chaat ( Mumbai Roadside Recipes )</td>\n",
              "      <td>14</td>\n",
              "      <td>For The Aloo Chaat Marinated Potatoes\\n1 1/4 c...</td>\n",
              "      <td>aloo chaat recipe | Mumbai roadside aloo chaat...</td>\n",
              "    </tr>\n",
              "    <tr>\n",
              "      <th>3</th>\n",
              "      <td>4</td>\n",
              "      <td>Aloo ki Kadhi Recipe</td>\n",
              "      <td>40</td>\n",
              "      <td>For The Pakodas\\n1/2 kg potatoes , boiled , pe...</td>\n",
              "      <td>Seeking to satiate your appetite on fasting da...</td>\n",
              "    </tr>\n",
              "    <tr>\n",
              "      <th>4</th>\n",
              "      <td>5</td>\n",
              "      <td>Alu Bhat</td>\n",
              "      <td>40</td>\n",
              "      <td>To Be Blended Into A Smooth Paste\\n1/2 cup cho...</td>\n",
              "      <td>A vegetable dish which is common in most benga...</td>\n",
              "    </tr>\n",
              "    <tr>\n",
              "      <th>...</th>\n",
              "      <td>...</td>\n",
              "      <td>...</td>\n",
              "      <td>...</td>\n",
              "      <td>...</td>\n",
              "      <td>...</td>\n",
              "    </tr>\n",
              "    <tr>\n",
              "      <th>431</th>\n",
              "      <td>432</td>\n",
              "      <td>Whole Wheat Roti Chivda</td>\n",
              "      <td>25</td>\n",
              "      <td>For The Whole Wheat Rotis\\n1 1/4 cups whole wh...</td>\n",
              "      <td>Whole Wheat Roti Chivda is a light and tasty s...</td>\n",
              "    </tr>\n",
              "    <tr>\n",
              "      <th>432</th>\n",
              "      <td>433</td>\n",
              "      <td>Yam Raita, Farali Suran Raita Recipe</td>\n",
              "      <td>10</td>\n",
              "      <td>For Yam Raita\\n1 cup peeled , boiled and mashe...</td>\n",
              "      <td>yam raita recipe | farali suran raita | senai ...</td>\n",
              "    </tr>\n",
              "    <tr>\n",
              "      <th>433</th>\n",
              "      <td>434</td>\n",
              "      <td>Yummy Pudina Rice</td>\n",
              "      <td>30</td>\n",
              "      <td>2 cups long grained rice (basmati)\\nsalt to ta...</td>\n",
              "      <td>This is a tasty rice, try this with tomato and...</td>\n",
              "    </tr>\n",
              "    <tr>\n",
              "      <th>434</th>\n",
              "      <td>435</td>\n",
              "      <td>Zunka</td>\n",
              "      <td>29</td>\n",
              "      <td>For Zunka\\n1 cup besan (bengal gram flour)\\n2 ...</td>\n",
              "      <td>zunka recipe | jhunka | Marathi zunka bhakar |...</td>\n",
              "    </tr>\n",
              "    <tr>\n",
              "      <th>435</th>\n",
              "      <td>436</td>\n",
              "      <td>Zunka Bhakri - Maharashtrian Dish</td>\n",
              "      <td>30</td>\n",
              "      <td>For the wet mix (ghol)\\n1 glass water\\n2 onion...</td>\n",
              "      <td>Zunka bhakri - Maharashtrian dish is a traditi...</td>\n",
              "    </tr>\n",
              "  </tbody>\n",
              "</table>\n",
              "<p>436 rows × 5 columns</p>\n",
              "</div>"
            ],
            "text/plain": [
              "     RecipeID                                        title  RequiredTime  \\\n",
              "0           1                                  Aamabtvaran            40   \n",
              "1           2  Aloo and Kand Rasawala Shaak, Faraal Recipe            24   \n",
              "2           3       Aloo Chaat ( Mumbai Roadside Recipes )            14   \n",
              "3           4                         Aloo ki Kadhi Recipe            40   \n",
              "4           5                                     Alu Bhat            40   \n",
              "..        ...                                          ...           ...   \n",
              "431       432                      Whole Wheat Roti Chivda            25   \n",
              "432       433         Yam Raita, Farali Suran Raita Recipe            10   \n",
              "433       434                            Yummy Pudina Rice            30   \n",
              "434       435                                        Zunka            29   \n",
              "435       436            Zunka Bhakri - Maharashtrian Dish            30   \n",
              "\n",
              "                                           Ingredients  \\\n",
              "0    1 cup toovar (arhar) dal\\n1/2 tsp turmeric pow...   \n",
              "1    1 cup boiled potato cubes\\n1 cup steamed purpl...   \n",
              "2    For The Aloo Chaat Marinated Potatoes\\n1 1/4 c...   \n",
              "3    For The Pakodas\\n1/2 kg potatoes , boiled , pe...   \n",
              "4    To Be Blended Into A Smooth Paste\\n1/2 cup cho...   \n",
              "..                                                 ...   \n",
              "431  For The Whole Wheat Rotis\\n1 1/4 cups whole wh...   \n",
              "432  For Yam Raita\\n1 cup peeled , boiled and mashe...   \n",
              "433  2 cups long grained rice (basmati)\\nsalt to ta...   \n",
              "434  For Zunka\\n1 cup besan (bengal gram flour)\\n2 ...   \n",
              "435  For the wet mix (ghol)\\n1 glass water\\n2 onion...   \n",
              "\n",
              "                                           Description  \n",
              "0    Aamabtvaran is a maharashtrian way of cooking ...  \n",
              "1    This recipe is a mouth-watering preparation of...  \n",
              "2    aloo chaat recipe | Mumbai roadside aloo chaat...  \n",
              "3    Seeking to satiate your appetite on fasting da...  \n",
              "4    A vegetable dish which is common in most benga...  \n",
              "..                                                 ...  \n",
              "431  Whole Wheat Roti Chivda is a light and tasty s...  \n",
              "432  yam raita recipe | farali suran raita | senai ...  \n",
              "433  This is a tasty rice, try this with tomato and...  \n",
              "434  zunka recipe | jhunka | Marathi zunka bhakar |...  \n",
              "435  Zunka bhakri - Maharashtrian dish is a traditi...  \n",
              "\n",
              "[436 rows x 5 columns]"
            ]
          },
          "execution_count": 125,
          "metadata": {},
          "output_type": "execute_result"
        }
      ],
      "source": [
        "import pickle\n",
        "pickle.dump(new_recipes,open('recipes_list.pkl','wb'))\n",
        "pickle.dump(similarity,open('similarity.pkl','wb'))\n",
        "pickle.load(open('recipes_list.pkl','rb'))\n"
      ]
    },
    {
      "cell_type": "code",
      "execution_count": null,
      "metadata": {
        "id": "bpn6gOSDcNSM"
      },
      "outputs": [],
      "source": []
    },
    {
      "cell_type": "code",
      "execution_count": null,
      "metadata": {
        "id": "QEMFGRAr5zwj"
      },
      "outputs": [],
      "source": []
    }
  ],
  "metadata": {
    "colab": {
      "provenance": []
    },
    "kernelspec": {
      "display_name": "Python 3",
      "name": "python3"
    },
    "language_info": {
      "codemirror_mode": {
        "name": "ipython",
        "version": 3
      },
      "file_extension": ".py",
      "mimetype": "text/x-python",
      "name": "python",
      "nbconvert_exporter": "python",
      "pygments_lexer": "ipython3",
      "version": "3.10.9"
    }
  },
  "nbformat": 4,
  "nbformat_minor": 0
}
